{
 "cells": [
  {
   "cell_type": "markdown",
   "id": "ae60d3b7-d175-457a-ade2-960ab7ea0491",
   "metadata": {
    "id": "ae60d3b7-d175-457a-ade2-960ab7ea0491"
   },
   "source": [
    "# YouTube QoE\n",
    "\n",
    "[![Open In Colab](https://colab.research.google.com/assets/colab-badge.svg)](https://colab.research.google.com/github/intrig-unicamp/hackathon5G/blob/main/datasets/youtube-qoe.ipynb)\n",
    "\n",
    "Esse Notebook contém uma breve análise dos dados que o YouTube coleta para telemetria dos seus clientes (Web Desktop, Web Mobile, IFrame API, App). Os participantes são encorajados a experimentar com os dados para descobrir padrões, formas de resolver problemas no contexto da Hackathon.\n",
    "\n",
    "Os dados utilizados nesse Notebook foram extraídos a partir de coletas usando [`PCAPdroid`](https://github.com/emanuele-f/PCAPdroid) + [`PCAPdroid-mitm addon`](https://github.com/emanuele-f/PCAPdroid-mitm) (Android) e `Chrome DevTools` (Desktop), que resultam em arquivos `PCAP` e `HAR`, respectivamente."
   ]
  },
  {
   "cell_type": "markdown",
   "id": "ce77019e-f6f8-4a3a-adc4-5ed336e8a75e",
   "metadata": {
    "id": "ce77019e-f6f8-4a3a-adc4-5ed336e8a75e"
   },
   "source": [
    "## Instalação das dependências\n",
    "\n",
    "Instalar as dependências no ambiente adequado (pip ou Anaconda)."
   ]
  },
  {
   "cell_type": "code",
   "execution_count": 1,
   "id": "033e0dcb-d533-429c-a992-fc68fe2368ec",
   "metadata": {
    "executionInfo": {
     "elapsed": 5900,
     "status": "ok",
     "timestamp": 1680268069706,
     "user": {
      "displayName": "arthur simas",
      "userId": "04073960446793716118"
     },
     "user_tz": 180
    },
    "id": "00f1b6d7-97ad-4159-8ba9-30275e0101fc"
   },
   "outputs": [],
   "source": [
    "try:\n",
    "    import google.colab as _\n",
    "    IN_COLAB = True\n",
    "except:\n",
    "    IN_COLAB = False\n",
    "\n",
    "if IN_COLAB:\n",
    "    !pip install pyshark pandas numpy seaborn -q\n",
    "else:\n",
    "    !conda install pyshark pandas numpy seaborn -qy --freeze-installed"
   ]
  },
  {
   "cell_type": "markdown",
   "id": "2d4c957e-ab6d-4da7-82fb-a03914453859",
   "metadata": {
    "id": "2d4c957e-ab6d-4da7-82fb-a03914453859"
   },
   "source": [
    "Instalando o `tshark` usando o gerenciador de pacotes de sistema adequado."
   ]
  },
  {
   "cell_type": "code",
   "execution_count": 2,
   "id": "9762826c-67a2-4fc9-a7c5-18e16b6eb501",
   "metadata": {
    "colab": {
     "base_uri": "https://localhost:8080/"
    },
    "executionInfo": {
     "elapsed": 2060,
     "status": "ok",
     "timestamp": 1680268071755,
     "user": {
      "displayName": "arthur simas",
      "userId": "04073960446793716118"
     },
     "user_tz": 180
    },
    "id": "f6d9707c-ce6c-45d8-92d9-bbd22e67f0c7",
    "outputId": "291746cc-0eb1-4afe-b834-f6f04506556c"
   },
   "outputs": [
    {
     "name": "stdout",
     "output_type": "stream",
     "text": [
      "tshask already installed\n"
     ]
    }
   ],
   "source": [
    "%%bash\n",
    "\n",
    "if type tshark >/dev/null 2>&1; then\n",
    "    echo \"tshask already installed\"\n",
    "\n",
    "elif type nix-env >/dev/null 2>&1; then\n",
    "    nix-env -iA nixpkgs.tshark\n",
    "\n",
    "elif type apt-get >/dev/null 2>&1; then\n",
    "    apt-get -q install tshark\n",
    "\n",
    "elif type yum >/dev/null 2>&1; then\n",
    "    yum install tshark -q -y\n",
    "\n",
    "elif type apk >/dev/null 2>&1; then\n",
    "    apk add -q tshark\n",
    "\n",
    "elif type pacman >/dev/null 2>&1; then\n",
    "    pacman -S tshark\n",
    "\n",
    "fi"
   ]
  },
  {
   "cell_type": "markdown",
   "id": "7bd81c6d-963d-4572-b8f8-5efc4ce491b7",
   "metadata": {
    "colab": {
     "base_uri": "https://localhost:8080/"
    },
    "executionInfo": {
     "elapsed": 2060,
     "status": "ok",
     "timestamp": 1680268071755,
     "user": {
      "displayName": "arthur simas",
      "userId": "04073960446793716118"
     },
     "user_tz": 180
    },
    "id": "f6d9707c-ce6c-45d8-92d9-bbd22e67f0c7",
    "outputId": "291746cc-0eb1-4afe-b834-f6f04506556c"
   },
   "source": [
    "## Obtendo arquivos de dados\n",
    "\n",
    "Baixamos os arquivos caso o Notebook esteja sendo executado no ambiente do Google Colab. A variável de prefixo do caminho dos arquivos é definida de acordo."
   ]
  },
  {
   "cell_type": "code",
   "execution_count": 3,
   "id": "8016d2f0-f382-4648-9d27-277e3a8612ec",
   "metadata": {
    "colab": {
     "base_uri": "https://localhost:8080/"
    },
    "executionInfo": {
     "elapsed": 2060,
     "status": "ok",
     "timestamp": 1680268071755,
     "user": {
      "displayName": "arthur simas",
      "userId": "04073960446793716118"
     },
     "user_tz": 180
    },
    "id": "f6d9707c-ce6c-45d8-92d9-bbd22e67f0c7",
    "outputId": "291746cc-0eb1-4afe-b834-f6f04506556c"
   },
   "outputs": [],
   "source": [
    "if IN_COLAB:\n",
    "    !git clone --depth=1 https://github.com/intrig-unicamp/hackathon5G.git hackathon5G\n",
    "\n",
    "DATA_PATH_PREFIX = './hackathon5G/datasets' if IN_COLAB else '.'"
   ]
  },
  {
   "cell_type": "markdown",
   "id": "0f1778ac-22b4-4e9d-b063-9edb17a8cecb",
   "metadata": {
    "id": "0f1778ac-22b4-4e9d-b063-9edb17a8cecb"
   },
   "source": [
    "## Importando dependências globais"
   ]
  },
  {
   "cell_type": "code",
   "execution_count": 4,
   "id": "9add5c1e-e245-4c6a-b19a-bf70db18e40e",
   "metadata": {
    "executionInfo": {
     "elapsed": 9,
     "status": "ok",
     "timestamp": 1680268072192,
     "user": {
      "displayName": "arthur simas",
      "userId": "04073960446793716118"
     },
     "user_tz": 180
    },
    "id": "9add5c1e-e245-4c6a-b19a-bf70db18e40e"
   },
   "outputs": [],
   "source": [
    "import pandas as pd\n",
    "import numpy as np\n",
    "import seaborn as sns\n",
    "\n",
    "pd.set_option('display.max_columns', None)"
   ]
  },
  {
   "cell_type": "markdown",
   "id": "2ce4a2e9-75de-4d42-a5c2-50afa85a28f5",
   "metadata": {
    "id": "2ce4a2e9-75de-4d42-a5c2-50afa85a28f5",
    "tags": []
   },
   "source": [
    "## HAR\n",
    "\n",
    "De modo que o YouTube tem integrado nos seus diversos clientes (Web, Web Mobile, IFrame, e aplicativos iOS e Android) um instrumento de coleta de métricas de experiência do usuário, analizamos o código do YouTube Web e identificamos as métricas monitoradas, as quais são iguais nos demais clientes.\n",
    "\n",
    "Inicialmente, os dados foram coletados pelo Chrome DevTools no formato HAR. As informações sensíveis foram removidas, e os dados HAR estão apresentados a seguir.\n",
    "\n",
    "O formato HAR é baseado em JSON, dessa forma, podemos fazer a manipulação usando o pacote `json` de forma usual."
   ]
  },
  {
   "cell_type": "code",
   "execution_count": 5,
   "id": "c828c7ab-1b02-4a30-8d0a-51af7d15e4cb",
   "metadata": {
    "executionInfo": {
     "elapsed": 12,
     "status": "ok",
     "timestamp": 1680268122551,
     "user": {
      "displayName": "arthur simas",
      "userId": "04073960446793716118"
     },
     "user_tz": 180
    },
    "id": "c828c7ab-1b02-4a30-8d0a-51af7d15e4cb"
   },
   "outputs": [],
   "source": [
    "import json"
   ]
  },
  {
   "cell_type": "code",
   "execution_count": 6,
   "id": "6ba51e1c-1374-4a35-ab0b-c46a43d0a880",
   "metadata": {
    "colab": {
     "base_uri": "https://localhost:8080/"
    },
    "executionInfo": {
     "elapsed": 1063,
     "status": "ok",
     "timestamp": 1680268123604,
     "user": {
      "displayName": "arthur simas",
      "userId": "04073960446793716118"
     },
     "user_tz": 180
    },
    "id": "6ba51e1c-1374-4a35-ab0b-c46a43d0a880",
    "outputId": "59addafc-a2e6-4588-f264-372e86018f99"
   },
   "outputs": [],
   "source": [
    "HAR_FILENAME = f'{DATA_PATH_PREFIX}/youtube-qoe-har/www.youtube.com.har'"
   ]
  },
  {
   "cell_type": "code",
   "execution_count": 7,
   "id": "fb09da16-6ac2-4434-9142-6ff597b3a268",
   "metadata": {
    "executionInfo": {
     "elapsed": 1224,
     "status": "ok",
     "timestamp": 1680268124825,
     "user": {
      "displayName": "arthur simas",
      "userId": "04073960446793716118"
     },
     "user_tz": 180
    },
    "id": "fb09da16-6ac2-4434-9142-6ff597b3a268"
   },
   "outputs": [],
   "source": [
    "with open(HAR_FILENAME, 'r') as f:\n",
    "    har = json.load(f)"
   ]
  },
  {
   "cell_type": "markdown",
   "id": "a812e938-bf64-4499-a654-0295ffb88903",
   "metadata": {
    "colab": {
     "base_uri": "https://localhost:8080/",
     "height": 90
    },
    "executionInfo": {
     "elapsed": 44,
     "status": "ok",
     "timestamp": 1680268124826,
     "user": {
      "displayName": "arthur simas",
      "userId": "04073960446793716118"
     },
     "user_tz": 180
    },
    "id": "35ae85a2-f42d-4bc4-a443-4dce0ea9bcac",
    "outputId": "c6d17888-569a-472f-cf40-c12cae549126"
   },
   "source": [
    "Para obtermos o URL das requisições, acessamos o seguinte caminho:"
   ]
  },
  {
   "cell_type": "code",
   "execution_count": 8,
   "id": "8aed9e22-2f35-4969-90e4-e53eba9f3b91",
   "metadata": {
    "colab": {
     "base_uri": "https://localhost:8080/",
     "height": 90
    },
    "executionInfo": {
     "elapsed": 44,
     "status": "ok",
     "timestamp": 1680268124826,
     "user": {
      "displayName": "arthur simas",
      "userId": "04073960446793716118"
     },
     "user_tz": 180
    },
    "id": "35ae85a2-f42d-4bc4-a443-4dce0ea9bcac",
    "outputId": "c6d17888-569a-472f-cf40-c12cae549126"
   },
   "outputs": [
    {
     "data": {
      "text/plain": [
       "'https://www.youtube.com/api/stats/qoe?fmt=271&afmt=251&cpn=rK3BMYUZSURO9KBY&el=detailpage&ns=yt&fexp=23858057%2C23983296%2C23986023%2C24004644%2C24007246%2C24080738%2C24135310%2C24169501%2C24219381%2C24255163%2C24396645%2C24411033%2C24415864%2C24416439%2C24421858%2C24433679%2C24437577%2C24439361%2C24449112%2C24450366%2C24451032%2C24457275&cl=501313814&seq=62&docid=bTpKM43VhwA&ei=UvbVY5i5EP6a1sQPiI2h-AU&event=streamingstats&feature=g-high&osid=AAAAAKkd2C8%3AAOeUNAavuQSN72LSYVoMExbkkTijt_yJvA&plid=AAXzX43RrsfOjzaS&referrer=https%3A%2F%2Fwww.youtube.com%2Ffeed%2Fsubscriptions&sdetail=p%3A%2Ffeed%2Fsubscriptions&sourceid=y&cbr=Chrome&cbrver=108.0.0.0&c=WEB&cver=2.20230126.08.00&cplayer=UNIPLAYER&cos=X11&cplatform=DESKTOP&vps=3301.984:PA&bwe=3301.984:8195200&bat=3301.984:1:1&cmt=3301.984:939.766&bh=3301.984:993.392'"
      ]
     },
     "execution_count": 8,
     "metadata": {},
     "output_type": "execute_result"
    }
   ],
   "source": [
    "har['log']['entries'][0]['request']['url']"
   ]
  },
  {
   "cell_type": "markdown",
   "id": "11c5c94b-1ca3-4fc8-8aa2-61039607b289",
   "metadata": {
    "colab": {
     "base_uri": "https://localhost:8080/",
     "height": 90
    },
    "executionInfo": {
     "elapsed": 44,
     "status": "ok",
     "timestamp": 1680268124826,
     "user": {
      "displayName": "arthur simas",
      "userId": "04073960446793716118"
     },
     "user_tz": 180
    },
    "id": "35ae85a2-f42d-4bc4-a443-4dce0ea9bcac",
    "outputId": "c6d17888-569a-472f-cf40-c12cae549126"
   },
   "source": [
    "Assim, sabendo desse caminho padronizado para acessar o URL, podemos fazer uma função que extrai todos os URLs de um arquivo HAR, filtrando as requisições que possuem `youtube.com/api/stats/qoe?` na URL."
   ]
  },
  {
   "cell_type": "code",
   "execution_count": 9,
   "id": "7caa28bf-d56b-4ceb-9a61-9f2f33dcf2bb",
   "metadata": {
    "executionInfo": {
     "elapsed": 42,
     "status": "ok",
     "timestamp": 1680268124826,
     "user": {
      "displayName": "arthur simas",
      "userId": "04073960446793716118"
     },
     "user_tz": 180
    },
    "id": "7caa28bf-d56b-4ceb-9a61-9f2f33dcf2bb"
   },
   "outputs": [],
   "source": [
    "def extract_youtube_qoe_urls_from_har(har):\n",
    "    data = []\n",
    "    for each in har['log']['entries']:\n",
    "        url = each['request']['url']\n",
    "        if 'youtube.com/api/stats/qoe?' in url:\n",
    "            data.append(url)\n",
    "    return data"
   ]
  },
  {
   "cell_type": "code",
   "execution_count": 10,
   "id": "483f1125-9216-4a2d-a815-b9b6a7efacdb",
   "metadata": {
    "colab": {
     "base_uri": "https://localhost:8080/"
    },
    "executionInfo": {
     "elapsed": 42,
     "status": "ok",
     "timestamp": 1680268124827,
     "user": {
      "displayName": "arthur simas",
      "userId": "04073960446793716118"
     },
     "user_tz": 180
    },
    "id": "483f1125-9216-4a2d-a815-b9b6a7efacdb",
    "outputId": "08392cc0-0d0a-47f9-8747-597fc914b500"
   },
   "outputs": [
    {
     "data": {
      "text/plain": [
       "45"
      ]
     },
     "execution_count": 10,
     "metadata": {},
     "output_type": "execute_result"
    }
   ],
   "source": [
    "api_stats_qoe_har = extract_youtube_qoe_urls_from_har(har)\n",
    "len(api_stats_qoe_har)"
   ]
  },
  {
   "cell_type": "markdown",
   "id": "a997c174-509a-4922-a661-ad060b08dfab",
   "metadata": {
    "id": "a997c174-509a-4922-a661-ad060b08dfab",
    "tags": []
   },
   "source": [
    "## PCAP\n",
    "\n",
    "Os arquivos de dados PCAP foram gerados a partir da interceptação das métricas de tráfego com o uso do [`PCAPdroid`](https://github.com/emanuele-f/PCAPdroid) e o plugin [`PCAPdroid-mitm`](https://github.com/emanuele-f/PCAPdroid-mitm) para descriptografar os pacotes TLS. Para gerar os dados de tráfego no _Samsung S21 5G_, tocamos uma playlist com alta resolução no YouTube Web Mobile. Os dados no formato PCAP estão apresentados a segui.\n",
    "\n",
    "Usando o pacote `pyshark` (um _wrapper_ do aplicativo de linha de comando `tshark`), podemos abrir arquivos PCAP/NG para extrair as requisições de interesse. Nesse caso, passamos o nome do arquivo desejado e adicionamos um filtro para obter apenas as requisições que atendem ao filtro `http2.header.value contains \"api/stats/qoe\"`."
   ]
  },
  {
   "cell_type": "code",
   "execution_count": 11,
   "id": "6bec472d-7789-4144-a1fc-1c841ac85845",
   "metadata": {
    "executionInfo": {
     "elapsed": 8,
     "status": "ok",
     "timestamp": 1680268072192,
     "user": {
      "displayName": "arthur simas",
      "userId": "04073960446793716118"
     },
     "user_tz": 180
    },
    "id": "6bec472d-7789-4144-a1fc-1c841ac85845"
   },
   "outputs": [],
   "source": [
    "import pyshark\n",
    "\n",
    "# https://github.com/KimiNewt/pyshark/issues/360#issuecomment-700425352\n",
    "import nest_asyncio\n",
    "nest_asyncio.apply()"
   ]
  },
  {
   "cell_type": "code",
   "execution_count": 12,
   "id": "98b44d07-71fb-4378-ba93-b75d1cb2b908",
   "metadata": {
    "colab": {
     "base_uri": "https://localhost:8080/"
    },
    "executionInfo": {
     "elapsed": 5417,
     "status": "ok",
     "timestamp": 1680268077602,
     "user": {
      "displayName": "arthur simas",
      "userId": "04073960446793716118"
     },
     "user_tz": 180
    },
    "id": "98b44d07-71fb-4378-ba93-b75d1cb2b908",
    "outputId": "f46e3008-e1b7-4519-c34d-19c66dba68e1"
   },
   "outputs": [],
   "source": [
    "PCAP1_FILENAME = f'{DATA_PATH_PREFIX}/youtube-qoe-pcap/PCAPdroid_17_Feb_02_19_56.pcapng'\n",
    "#PCAP2_FILENAME = f'{DATA_PATH_PREFIX}/youtube-qoe-pcap/PCAPdroid_24_Feb_16_35_24.pcapng'"
   ]
  },
  {
   "cell_type": "code",
   "execution_count": 13,
   "id": "07a85f6b-78a3-455a-b1f2-8f375e546236",
   "metadata": {
    "executionInfo": {
     "elapsed": 6,
     "status": "ok",
     "timestamp": 1680268077603,
     "user": {
      "displayName": "arthur simas",
      "userId": "04073960446793716118"
     },
     "user_tz": 180
    },
    "id": "07a85f6b-78a3-455a-b1f2-8f375e546236"
   },
   "outputs": [],
   "source": [
    "def open_youtube_qoe_pcap(pcap_filename):\n",
    "    return pyshark.FileCapture(input_file=pcap_filename, display_filter='http2.header.value contains \"api/stats/qoe\"')"
   ]
  },
  {
   "cell_type": "markdown",
   "id": "d6ec2438-f701-4328-a006-cf520c275439",
   "metadata": {},
   "source": [
    "Para obtermos o URL das requisições, acessamos o seguinte caminho:"
   ]
  },
  {
   "cell_type": "code",
   "execution_count": 14,
   "id": "0f68a676-4a40-4a83-aa20-8c8f98a8d4c0",
   "metadata": {
    "colab": {
     "base_uri": "https://localhost:8080/"
    },
    "executionInfo": {
     "elapsed": 434,
     "status": "ok",
     "timestamp": 1680268078032,
     "user": {
      "displayName": "arthur simas",
      "userId": "04073960446793716118"
     },
     "user_tz": 180
    },
    "id": "0f68a676-4a40-4a83-aa20-8c8f98a8d4c0",
    "outputId": "4976fb23-88cb-4499-99ef-6e1c0c43e0c8"
   },
   "outputs": [
    {
     "data": {
      "text/plain": [
       "'/api/stats/qoe?fmt=243&afmt=251&cpn=oMaRrct9XOA6WR0D&el=detailpage&ns=yt&fexp=23848211%2C23983296%2C24004644%2C24007246%2C24080738%2C24135310%2C24169501%2C24255165%2C24288346%2C24396647%2C24415864%2C24439360%2C24450367%2C24451033%2C24451438%2C24455613%2C24458634%2C24467965%2C24475438%2C24476238%2C39323075&cl=509820939&seq=1&docid=d5r-kEmQfBg&ei=gA7vY83zJeyPobIPq_OcmAg&event=streamingstats&plid=AAX03ncKwXUwJiIT&cbrand=samsung&cbr=Chrome%20Mobile&cbrver=109.0.0.0&c=MWEB&cver=2.20230215.10.00&cplayer=UNIPLAYER&cmodel=sm-g991b&cos=Android&cosver=13&cplatform=MOBILE&vps=0.000:N,0.008:N&afs=0.008:251::i&vfs=0.008:243:243::d&view=0.008:360:203:3&bwe=0.008:752419&vis=0.008:0&cmt=0.008:0.000&conn=0.008:1&bh=0.008:0.000'"
      ]
     },
     "execution_count": 14,
     "metadata": {},
     "output_type": "execute_result"
    }
   ],
   "source": [
    "pcap1 = open_youtube_qoe_pcap(PCAP1_FILENAME)\n",
    "#pcap2 = open_youtube_qoe_pcap(PCAP2_FILENAME)\n",
    "packet = pcap1[0]\n",
    "packet.http2.headers_path"
   ]
  },
  {
   "cell_type": "markdown",
   "id": "8631fd13-3773-4d58-8ef5-b10124a5b522",
   "metadata": {},
   "source": [
    "Assim, criar uma lista com as URLs das requisições (já filtradas)."
   ]
  },
  {
   "cell_type": "code",
   "execution_count": 15,
   "id": "62c2209b-b7e1-4c22-b7da-981a559d55d6",
   "metadata": {
    "executionInfo": {
     "elapsed": 3,
     "status": "ok",
     "timestamp": 1680268120483,
     "user": {
      "displayName": "arthur simas",
      "userId": "04073960446793716118"
     },
     "user_tz": 180
    },
    "id": "62c2209b-b7e1-4c22-b7da-981a559d55d6"
   },
   "outputs": [],
   "source": [
    "def extract_youtube_qoe_urls_from_pcap(pcap):\n",
    "    return [each.http2.headers_path for each in pcap]"
   ]
  },
  {
   "cell_type": "code",
   "execution_count": 16,
   "id": "703e670f-07d0-4b74-93a4-5f5ed9d383e1",
   "metadata": {
    "colab": {
     "base_uri": "https://localhost:8080/"
    },
    "executionInfo": {
     "elapsed": 1683,
     "status": "ok",
     "timestamp": 1680268122550,
     "user": {
      "displayName": "arthur simas",
      "userId": "04073960446793716118"
     },
     "user_tz": 180
    },
    "id": "703e670f-07d0-4b74-93a4-5f5ed9d383e1",
    "outputId": "2dc5ecc7-1c15-4cd1-96e4-660169b458d5"
   },
   "outputs": [
    {
     "data": {
      "text/plain": [
       "12"
      ]
     },
     "execution_count": 16,
     "metadata": {},
     "output_type": "execute_result"
    }
   ],
   "source": [
    "api_stats_qoe_pcap = []\n",
    "api_stats_qoe_pcap += extract_youtube_qoe_urls_from_pcap(pcap1)\n",
    "#api_stats_qoe_pcap += extract_youtube_qoe_urls_from_pcap(pcap2)\n",
    "len(api_stats_qoe_pcap)"
   ]
  },
  {
   "cell_type": "markdown",
   "id": "a1570440-e180-4b71-a762-ea39ecc34120",
   "metadata": {
    "id": "a1570440-e180-4b71-a762-ea39ecc34120",
    "tags": []
   },
   "source": [
    "## Extraindo as métricas de QoE do YouTube das URLs capturadas\n",
    "\n",
    "Com várias URLs em mãos, vamos fazer o tratamento para obter os _query params_."
   ]
  },
  {
   "cell_type": "code",
   "execution_count": 17,
   "id": "212eaf43-34fd-46ac-bbd8-2d08acc1fe98",
   "metadata": {
    "colab": {
     "base_uri": "https://localhost:8080/",
     "height": 90
    },
    "executionInfo": {
     "elapsed": 38,
     "status": "ok",
     "timestamp": 1680268124827,
     "user": {
      "displayName": "arthur simas",
      "userId": "04073960446793716118"
     },
     "user_tz": 180
    },
    "id": "9ad2e274-cd93-4fbf-8b54-2c79d7a34c87",
    "outputId": "75ad357e-7327-4a13-ac77-223962dedcdf"
   },
   "outputs": [],
   "source": [
    "from urllib.parse import urlparse, parse_qsl"
   ]
  },
  {
   "cell_type": "code",
   "execution_count": 18,
   "id": "f63f98bf-9748-4f80-b2af-eecb450696ed",
   "metadata": {
    "colab": {
     "base_uri": "https://localhost:8080/",
     "height": 90
    },
    "executionInfo": {
     "elapsed": 38,
     "status": "ok",
     "timestamp": 1680268124827,
     "user": {
      "displayName": "arthur simas",
      "userId": "04073960446793716118"
     },
     "user_tz": 180
    },
    "id": "9ad2e274-cd93-4fbf-8b54-2c79d7a34c87",
    "outputId": "75ad357e-7327-4a13-ac77-223962dedcdf"
   },
   "outputs": [
    {
     "data": {
      "text/plain": [
       "'https://www.youtube.com/api/stats/qoe?fmt=271&afmt=251&cpn=lNl65JkWfbrigP2A&el=detailpage&ns=yt&fexp=23858057%2C23983296%2C23986023%2C24004644%2C24007246%2C24080738%2C24135310%2C24169501%2C24219381%2C24255163%2C24396645%2C24411033%2C24415864%2C24416439%2C24421858%2C24433679%2C24437577%2C24439361%2C24449112%2C24450366%2C24451032%2C24457275&cl=501313814&seq=7&docid=bTpKM43VhwA&ei=OAPWY7HkLMTJwgTWj6PgBQ&event=streamingstats&osid=AAAAAKkd2C8%3AAOeUNAavuQSN72LSYVoMExbkkTijt_yJvA&plid=AAXzYFKprfJNv5aY&referrer=https%3A%2F%2Fwww.youtube.com%2Ffeed%2Fsubscriptions&sdetail=p%3A%2Ffeed%2Fsubscriptions&sourceid=y&cbr=Chrome&cbrver=108.0.0.0&c=WEB&cver=2.20230126.08.00&cplayer=UNIPLAYER&cos=X11&cplatform=DESKTOP&bwm=130.281:15492683:1.670,140.004:4194304:0.445&bwe=130.281:8443765,140.004:8443765&bat=130.281:1:1,140.004:1:1&cmt=130.281:271.063,130.662:271.063,130.916:271.368,131.668:272.686,140.004:287.275&bh=130.281:42.743,140.004:24.840&vps=130.281:S,130.662:B,130.916:PL,140.004:PL&df=140.004:1'"
      ]
     },
     "execution_count": 18,
     "metadata": {},
     "output_type": "execute_result"
    }
   ],
   "source": [
    "url = api_stats_qoe_har[7]\n",
    "url"
   ]
  },
  {
   "cell_type": "code",
   "execution_count": 19,
   "id": "5376da42-d580-475a-987d-3ad65f68cfe0",
   "metadata": {
    "colab": {
     "base_uri": "https://localhost:8080/"
    },
    "executionInfo": {
     "elapsed": 38,
     "status": "ok",
     "timestamp": 1680268124828,
     "user": {
      "displayName": "arthur simas",
      "userId": "04073960446793716118"
     },
     "user_tz": 180
    },
    "id": "5376da42-d580-475a-987d-3ad65f68cfe0",
    "outputId": "1e5e3c1b-0b78-40df-921f-33ecba92d634"
   },
   "outputs": [
    {
     "data": {
      "text/plain": [
       "ParseResult(scheme='https', netloc='www.youtube.com', path='/api/stats/qoe', params='', query='fmt=271&afmt=251&cpn=lNl65JkWfbrigP2A&el=detailpage&ns=yt&fexp=23858057%2C23983296%2C23986023%2C24004644%2C24007246%2C24080738%2C24135310%2C24169501%2C24219381%2C24255163%2C24396645%2C24411033%2C24415864%2C24416439%2C24421858%2C24433679%2C24437577%2C24439361%2C24449112%2C24450366%2C24451032%2C24457275&cl=501313814&seq=7&docid=bTpKM43VhwA&ei=OAPWY7HkLMTJwgTWj6PgBQ&event=streamingstats&osid=AAAAAKkd2C8%3AAOeUNAavuQSN72LSYVoMExbkkTijt_yJvA&plid=AAXzYFKprfJNv5aY&referrer=https%3A%2F%2Fwww.youtube.com%2Ffeed%2Fsubscriptions&sdetail=p%3A%2Ffeed%2Fsubscriptions&sourceid=y&cbr=Chrome&cbrver=108.0.0.0&c=WEB&cver=2.20230126.08.00&cplayer=UNIPLAYER&cos=X11&cplatform=DESKTOP&bwm=130.281:15492683:1.670,140.004:4194304:0.445&bwe=130.281:8443765,140.004:8443765&bat=130.281:1:1,140.004:1:1&cmt=130.281:271.063,130.662:271.063,130.916:271.368,131.668:272.686,140.004:287.275&bh=130.281:42.743,140.004:24.840&vps=130.281:S,130.662:B,130.916:PL,140.004:PL&df=140.004:1', fragment='')"
      ]
     },
     "execution_count": 19,
     "metadata": {},
     "output_type": "execute_result"
    }
   ],
   "source": [
    "url_parts = urlparse(url)\n",
    "url_parts"
   ]
  },
  {
   "cell_type": "code",
   "execution_count": 20,
   "id": "83c5c961-979a-41c6-9c24-bffc6f8aa06a",
   "metadata": {
    "colab": {
     "base_uri": "https://localhost:8080/"
    },
    "executionInfo": {
     "elapsed": 33,
     "status": "ok",
     "timestamp": 1680268124828,
     "user": {
      "displayName": "arthur simas",
      "userId": "04073960446793716118"
     },
     "user_tz": 180
    },
    "id": "6d804a9d-e618-4b8e-9127-e5b839c5b711",
    "outputId": "73dfad4e-446a-427d-d955-3b8acb99eee6"
   },
   "outputs": [
    {
     "data": {
      "text/plain": [
       "[('bat', '130.281:1:1,140.004:1:1'),\n",
       " ('cmt',\n",
       "  '130.281:271.063,130.662:271.063,130.916:271.368,131.668:272.686,140.004:287.275'),\n",
       " ('bh', '130.281:42.743,140.004:24.840'),\n",
       " ('vps', '130.281:S,130.662:B,130.916:PL,140.004:PL'),\n",
       " ('df', '140.004:1')]"
      ]
     },
     "execution_count": 20,
     "metadata": {},
     "output_type": "execute_result"
    }
   ],
   "source": [
    "url_query_params_tuples = parse_qsl(url_parts.query)\n",
    "url_query_params_tuples[-5:]"
   ]
  },
  {
   "cell_type": "markdown",
   "id": "5b1dec7d-5c1b-49c6-aa08-8f13f1129e36",
   "metadata": {
    "colab": {
     "base_uri": "https://localhost:8080/"
    },
    "executionInfo": {
     "elapsed": 33,
     "status": "ok",
     "timestamp": 1680268124828,
     "user": {
      "displayName": "arthur simas",
      "userId": "04073960446793716118"
     },
     "user_tz": 180
    },
    "id": "6d804a9d-e618-4b8e-9127-e5b839c5b711",
    "outputId": "73dfad4e-446a-427d-d955-3b8acb99eee6"
   },
   "source": [
    "Observe que nesse ponto, já conseguimos obter os _query params_, e também podemos notar que eles representam as métricas de QoE coletadas pelo YouTube! Vamos tratar um pouco mais os dados para obter um formato melhor manuseável."
   ]
  },
  {
   "cell_type": "code",
   "execution_count": 21,
   "id": "3639076b-955f-4cbe-9c16-af2b2dd4224f",
   "metadata": {
    "colab": {
     "base_uri": "https://localhost:8080/"
    },
    "executionInfo": {
     "elapsed": 30,
     "status": "ok",
     "timestamp": 1680268124829,
     "user": {
      "displayName": "arthur simas",
      "userId": "04073960446793716118"
     },
     "user_tz": 180
    },
    "id": "3639076b-955f-4cbe-9c16-af2b2dd4224f",
    "outputId": "81381f75-7230-4956-dbe3-829f3e5b7d23"
   },
   "outputs": [
    {
     "data": {
      "text/plain": [
       "{'fmt': '271',\n",
       " 'afmt': '251',\n",
       " 'cpn': 'lNl65JkWfbrigP2A',\n",
       " 'el': 'detailpage',\n",
       " 'ns': 'yt',\n",
       " 'fexp': '23858057,23983296,23986023,24004644,24007246,24080738,24135310,24169501,24219381,24255163,24396645,24411033,24415864,24416439,24421858,24433679,24437577,24439361,24449112,24450366,24451032,24457275',\n",
       " 'cl': '501313814',\n",
       " 'seq': '7',\n",
       " 'docid': 'bTpKM43VhwA',\n",
       " 'ei': 'OAPWY7HkLMTJwgTWj6PgBQ',\n",
       " 'event': 'streamingstats',\n",
       " 'osid': 'AAAAAKkd2C8:AOeUNAavuQSN72LSYVoMExbkkTijt_yJvA',\n",
       " 'plid': 'AAXzYFKprfJNv5aY',\n",
       " 'referrer': 'https://www.youtube.com/feed/subscriptions',\n",
       " 'sdetail': 'p:/feed/subscriptions',\n",
       " 'sourceid': 'y',\n",
       " 'cbr': 'Chrome',\n",
       " 'cbrver': '108.0.0.0',\n",
       " 'c': 'WEB',\n",
       " 'cver': '2.20230126.08.00',\n",
       " 'cplayer': 'UNIPLAYER',\n",
       " 'cos': 'X11',\n",
       " 'cplatform': 'DESKTOP',\n",
       " 'bwm': '130.281:15492683:1.670,140.004:4194304:0.445',\n",
       " 'bwe': '130.281:8443765,140.004:8443765',\n",
       " 'bat': '130.281:1:1,140.004:1:1',\n",
       " 'cmt': '130.281:271.063,130.662:271.063,130.916:271.368,131.668:272.686,140.004:287.275',\n",
       " 'bh': '130.281:42.743,140.004:24.840',\n",
       " 'vps': '130.281:S,130.662:B,130.916:PL,140.004:PL',\n",
       " 'df': '140.004:1'}"
      ]
     },
     "execution_count": 21,
     "metadata": {},
     "output_type": "execute_result"
    }
   ],
   "source": [
    "url_query_params_dict = { k: v for k, v in url_query_params_tuples }\n",
    "url_query_params_dict"
   ]
  },
  {
   "cell_type": "markdown",
   "id": "00d17e7f-fa11-4c57-a0b9-f23c3a0ddc42",
   "metadata": {
    "executionInfo": {
     "elapsed": 23,
     "status": "ok",
     "timestamp": 1680268124830,
     "user": {
      "displayName": "arthur simas",
      "userId": "04073960446793716118"
     },
     "user_tz": 180
    },
    "id": "02dc2a0b-4bfe-4ab9-b1cf-88fe43770222"
   },
   "source": [
    "Note o campo `vps`, ele representa o _videoplayer state_:"
   ]
  },
  {
   "cell_type": "code",
   "execution_count": 22,
   "id": "3145dbbe-6347-446c-b8d7-ceb986ccd319",
   "metadata": {
    "executionInfo": {
     "elapsed": 23,
     "status": "ok",
     "timestamp": 1680268124830,
     "user": {
      "displayName": "arthur simas",
      "userId": "04073960446793716118"
     },
     "user_tz": 180
    },
    "id": "02dc2a0b-4bfe-4ab9-b1cf-88fe43770222"
   },
   "outputs": [
    {
     "data": {
      "text/plain": [
       "'130.281:S,130.662:B,130.916:PL,140.004:PL'"
      ]
     },
     "execution_count": 22,
     "metadata": {},
     "output_type": "execute_result"
    }
   ],
   "source": [
    "url_query_params_dict['vps']"
   ]
  },
  {
   "cell_type": "markdown",
   "id": "baf091df-2d76-42a4-b936-5c5fd72c12ac",
   "metadata": {
    "executionInfo": {
     "elapsed": 23,
     "status": "ok",
     "timestamp": 1680268124830,
     "user": {
      "displayName": "arthur simas",
      "userId": "04073960446793716118"
     },
     "user_tz": 180
    },
    "id": "02dc2a0b-4bfe-4ab9-b1cf-88fe43770222"
   },
   "source": [
    "Note também que o valor possui vírgulas. Elas separam diferentes medições em instantes consecutivos. Os instantes representam os segundos contados a partir do inicio da sessão do _player_. Dessa forma, foram medidos os valores:\n",
    "- `130.281` (em segundos): `S`\n",
    "- `130.662`: `B`\n",
    "- `130.916`: `PL`\n",
    "- `140.004`: `PL`\n",
    "\n",
    "Sabendo disso, e com inspeção do código obfuscado do YouTube Web, podemos fazer a seguinte função para transformar os dados:"
   ]
  },
  {
   "cell_type": "code",
   "execution_count": 23,
   "id": "508fb255-54a6-4fda-91d8-e8d8e1a64265",
   "metadata": {
    "executionInfo": {
     "elapsed": 26,
     "status": "ok",
     "timestamp": 1680268124829,
     "user": {
      "displayName": "arthur simas",
      "userId": "04073960446793716118"
     },
     "user_tz": 180
    },
    "id": "508fb255-54a6-4fda-91d8-e8d8e1a64265"
   },
   "outputs": [],
   "source": [
    "def ft_comma_separated(value_type):\n",
    "    def inner(value):\n",
    "        value = [ e for e in value.split(',') ]\n",
    "        value = [ value_type(v) for v in value ]\n",
    "        return value\n",
    "    return inner\n",
    "\n",
    "def ft_comma_separated_ts(value_type):\n",
    "    def inner(value):\n",
    "        value = [ e.split(':') for e in value.split(',') ]\n",
    "        value = [ { 'at': float(at), **value_type(*v) } for at, *v in value ]\n",
    "        return value\n",
    "    return inner\n",
    "\n",
    "def youtube_qoe_field_transform(field, value):\n",
    "    # https://developers.google.com/youtube/iframe_api_reference#getPlayerState\n",
    "    player_state_enum_map = {\n",
    "        'N':  'unstarted/cued', # -1 = unstarted; 5 = video cued\n",
    "        'EN': 'ended',   # 0\n",
    "        'PL': 'playing', # 1\n",
    "        'PA': 'paused',  # 2\n",
    "        'B':  'buffering', # 3\n",
    "        'S':  'seek',    # guess based on player interactions\n",
    "    }\n",
    "    fields_transformers = {\n",
    "        #'seq':   ft_identity(lambda  v: { 'value': int(v) }),\n",
    "        #'event': ft_identity(lambda  v: { 'value': str(v) }),\n",
    "        'cmt':   ft_comma_separated_ts(lambda  v: { 'value': float(v) }),\n",
    "        'vps':   ft_comma_separated_ts(lambda  v: { 'value': player_state_enum_map.get(v, v)   }),\n",
    "        'bh':    ft_comma_separated_ts(lambda  v: { 'value': float(v) }),\n",
    "        'bwe':   ft_comma_separated_ts(lambda  v: { 'value': int(v)   }),\n",
    "        'bwm':   ft_comma_separated_ts(lambda *v: { 'downloaded_bytes': int(v[0]), 'seconds_to_download': float(v[1]) }),\n",
    "        'bat':   ft_comma_separated_ts(lambda *v: { 'percentage': float(v[0]) * 100, 'is_charging': v[1] == '1' }),\n",
    "        'view':  ft_comma_separated_ts(lambda *v: { 'width': int(v[0]), 'height': int(v[1]) }),\n",
    "        'df':    ft_comma_separated_ts(lambda  v: { 'value': int(v)   }),\n",
    "    }\n",
    "\n",
    "    if field not in fields_transformers:\n",
    "        return value\n",
    "\n",
    "    return fields_transformers[field](value)"
   ]
  },
  {
   "cell_type": "code",
   "execution_count": 24,
   "id": "f8c6108c-33e4-40e3-ab0e-9002dfdec79f",
   "metadata": {
    "colab": {
     "base_uri": "https://localhost:8080/"
    },
    "executionInfo": {
     "elapsed": 26,
     "status": "ok",
     "timestamp": 1680268124829,
     "user": {
      "displayName": "arthur simas",
      "userId": "04073960446793716118"
     },
     "user_tz": 180
    },
    "id": "f8c6108c-33e4-40e3-ab0e-9002dfdec79f",
    "outputId": "6697648b-6a81-4270-be4d-5a07c76a4266"
   },
   "outputs": [
    {
     "data": {
      "text/plain": [
       "{'fmt': '271',\n",
       " 'afmt': '251',\n",
       " 'cpn': 'lNl65JkWfbrigP2A',\n",
       " 'el': 'detailpage',\n",
       " 'ns': 'yt',\n",
       " 'fexp': '23858057,23983296,23986023,24004644,24007246,24080738,24135310,24169501,24219381,24255163,24396645,24411033,24415864,24416439,24421858,24433679,24437577,24439361,24449112,24450366,24451032,24457275',\n",
       " 'cl': '501313814',\n",
       " 'seq': '7',\n",
       " 'docid': 'bTpKM43VhwA',\n",
       " 'ei': 'OAPWY7HkLMTJwgTWj6PgBQ',\n",
       " 'event': 'streamingstats',\n",
       " 'osid': 'AAAAAKkd2C8:AOeUNAavuQSN72LSYVoMExbkkTijt_yJvA',\n",
       " 'plid': 'AAXzYFKprfJNv5aY',\n",
       " 'referrer': 'https://www.youtube.com/feed/subscriptions',\n",
       " 'sdetail': 'p:/feed/subscriptions',\n",
       " 'sourceid': 'y',\n",
       " 'cbr': 'Chrome',\n",
       " 'cbrver': '108.0.0.0',\n",
       " 'c': 'WEB',\n",
       " 'cver': '2.20230126.08.00',\n",
       " 'cplayer': 'UNIPLAYER',\n",
       " 'cos': 'X11',\n",
       " 'cplatform': 'DESKTOP',\n",
       " 'bwm': [{'at': 130.281,\n",
       "   'downloaded_bytes': 15492683,\n",
       "   'seconds_to_download': 1.67},\n",
       "  {'at': 140.004, 'downloaded_bytes': 4194304, 'seconds_to_download': 0.445}],\n",
       " 'bwe': [{'at': 130.281, 'value': 8443765}, {'at': 140.004, 'value': 8443765}],\n",
       " 'bat': [{'at': 130.281, 'percentage': 100.0, 'is_charging': True},\n",
       "  {'at': 140.004, 'percentage': 100.0, 'is_charging': True}],\n",
       " 'cmt': [{'at': 130.281, 'value': 271.063},\n",
       "  {'at': 130.662, 'value': 271.063},\n",
       "  {'at': 130.916, 'value': 271.368},\n",
       "  {'at': 131.668, 'value': 272.686},\n",
       "  {'at': 140.004, 'value': 287.275}],\n",
       " 'bh': [{'at': 130.281, 'value': 42.743}, {'at': 140.004, 'value': 24.84}],\n",
       " 'vps': [{'at': 130.281, 'value': 'seek'},\n",
       "  {'at': 130.662, 'value': 'buffering'},\n",
       "  {'at': 130.916, 'value': 'playing'},\n",
       "  {'at': 140.004, 'value': 'playing'}],\n",
       " 'df': [{'at': 140.004, 'value': 1}]}"
      ]
     },
     "execution_count": 24,
     "metadata": {},
     "output_type": "execute_result"
    }
   ],
   "source": [
    "url_query_params_dict_transform = { k: youtube_qoe_field_transform(k, v) for k, v in url_query_params_dict.items() }\n",
    "url_query_params_dict_transform"
   ]
  },
  {
   "cell_type": "code",
   "execution_count": 25,
   "id": "a30cdbbe-4137-4cee-bb18-a328532046ef",
   "metadata": {
    "executionInfo": {
     "elapsed": 23,
     "status": "ok",
     "timestamp": 1680268124830,
     "user": {
      "displayName": "arthur simas",
      "userId": "04073960446793716118"
     },
     "user_tz": 180
    },
    "id": "02dc2a0b-4bfe-4ab9-b1cf-88fe43770222"
   },
   "outputs": [],
   "source": [
    "def extract_youtube_qoe_metrics_from_urls(urls):\n",
    "    urls = [ { k: v for k, v in parse_qsl(urlparse(i).query) } for i in urls ] # extract query params from URLs\n",
    "    urls = [ { k: youtube_qoe_field_transform(k, v) for k, v in i.items() } for i in urls ] # transform each query param\n",
    "    return urls"
   ]
  },
  {
   "cell_type": "code",
   "execution_count": 26,
   "id": "1c0a3e85-dc56-4260-a391-c16c0d0da455",
   "metadata": {
    "colab": {
     "base_uri": "https://localhost:8080/"
    },
    "executionInfo": {
     "elapsed": 23,
     "status": "ok",
     "timestamp": 1680268124830,
     "user": {
      "displayName": "arthur simas",
      "userId": "04073960446793716118"
     },
     "user_tz": 180
    },
    "id": "1c0a3e85-dc56-4260-a391-c16c0d0da455",
    "outputId": "12ef96ad-2396-463e-8e32-56b6ec784940"
   },
   "outputs": [
    {
     "data": {
      "text/plain": [
       "12"
      ]
     },
     "execution_count": 26,
     "metadata": {},
     "output_type": "execute_result"
    }
   ],
   "source": [
    "t_api_stats_qoe_pcap = extract_youtube_qoe_metrics_from_urls(api_stats_qoe_pcap)\n",
    "len(t_api_stats_qoe_pcap)"
   ]
  },
  {
   "cell_type": "markdown",
   "id": "e30a7640-16a2-497a-a9a7-76f40f7da038",
   "metadata": {
    "id": "e30a7640-16a2-497a-a9a7-76f40f7da038",
    "tags": []
   },
   "source": [
    "# Colunas\n",
    "\n",
    "Foram identificados os respectivos significados das colunas listadas abaixo.\n",
    "\n",
    "- **Identifiers**\n",
    "    - `docid`: video identifier, as in URL\n",
    "    - `event`: event type (always \"streamingstats\")\n",
    "    - `cpn` (client playback nonce): unique identifier for the playback. equivalent to sCPN shown in stats for nerds\n",
    "    - `seq` (sequence): sequence number of the QoE sample\n",
    "    - `ei`: eventId\n",
    "    - `fexp`: experimentIds\n",
    "\n",
    "- **Player environment**\n",
    "    - `c` (client): WEB_EMBEDDED_PLAYER | WEB\n",
    "    - `el` (event label): detailpage | adunit | embedded | embedded_unbranded | shortspage (TO BE CONFIRMED)\n",
    "\n",
    "- **Player**\n",
    "    - `view` (view size, getPlayerSize/getSize): the timestamp, width, and height of the player size at that timestamp\n",
    "    - `vps` (video player state, getPlayerState): the timestamp and the state of the video at that timestamp (N/-1: unstarted, EN/0: ended, PL/1: playing, PA/2: paused, B/3: buffering, N/5: video cued)\n",
    "    - `vis` (visibility status, getVisibilityState): which includes the time and the video visibility state (enum unknown)\n",
    "\n",
    "- **Buffer**\n",
    "    - `bh` (on site: Buffer Health; on app: Readahead): the timestamp and the buffer health at that timestamp (represented in seconds)\n",
    "    - `df` (dropped frames; on site: Viewport / Frames: W:H / x dropped of X; on app: Framedrop: x fps): the timestamp and the number of dropped frames\n",
    "\n",
    "- **Connection speed**\n",
    "    - `bwe` (bandwidth estimation; on site: Connection Speed on app: Conn Speed): the timestamp and the estimated bandwidth in bytes at that timestamp\n",
    "    - `bwm` (bandwidth measurement; on site: Network Activity; on app: Net Activity): the timestamp, the downloaded bytes of audio and video (from *.googlevideo.com/videoplayback), the time took for download\n",
    "\n",
    "- **Device**\n",
    "    - `bat` (battery): the timestamp, charged percentage, charging\n",
    "\n",
    "- `cmt` (client measurement time, getCurrentTime): the timestamp and the corresponding video position (in seconds)\n",
    "\n",
    "\n",
    "Colunas ainda não identificadas:\n",
    "- `fmt` (video format/codec): TODO - map to actual video format/resolution instead of an identifier\n",
    "- `afmt` (audio format/codec): TODO - map to actual audio format/quality instead of an identifier\n",
    "- `vfs` (video ...)\n",
    "- `afs` (audio ...)\n",
    "- `ctmp`\n",
    "- `stream`\n",
    "- `user_intent`\n",
    "- `dt`\n",
    "- `ns`\n",
    "- `cl`\n",
    "- `osid`\n",
    "- `plid`"
   ]
  },
  {
   "cell_type": "markdown",
   "id": "0a380728-aa45-4039-a7f5-0fe1a5eb0a4d",
   "metadata": {
    "id": "0a380728-aa45-4039-a7f5-0fe1a5eb0a4d"
   },
   "source": [
    "## Exploração"
   ]
  },
  {
   "cell_type": "code",
   "execution_count": 27,
   "id": "8c91c844-554b-47e1-8ed6-d747704f019f",
   "metadata": {
    "colab": {
     "base_uri": "https://localhost:8080/"
    },
    "executionInfo": {
     "elapsed": 20,
     "status": "ok",
     "timestamp": 1680268124831,
     "user": {
      "displayName": "arthur simas",
      "userId": "04073960446793716118"
     },
     "user_tz": 180
    },
    "id": "8c91c844-554b-47e1-8ed6-d747704f019f",
    "outputId": "76d79091-a9c2-492b-fa86-a2b28c84078d"
   },
   "outputs": [
    {
     "name": "stdout",
     "output_type": "stream",
     "text": [
      "video ID\tclient playback nonce\t`view` values\n",
      "---\t\t---\t\t\t---\n",
      "d5r-kEmQfBg\toMaRrct9XOA6WR0D\t[{'at': 0.008, 'width': 360, 'height': 203}]\n",
      "d5r-kEmQfBg\t0p1K2OOv-yODQEOd\t[{'at': 0.009, 'width': 360, 'height': 203}]\n"
     ]
    }
   ],
   "source": [
    "print('video ID', 'client playback nonce', '`view` values', sep='\\t')\n",
    "print('---\\t\\t---\\t\\t\\t---')\n",
    "for i in t_api_stats_qoe_pcap:\n",
    "    f = 'view'\n",
    "    if f in  i: print(i['docid'], i['cpn'], i[f], sep='\\t')"
   ]
  },
  {
   "cell_type": "code",
   "execution_count": 28,
   "id": "7094a2d6-2248-4742-b827-2e1860ea813e",
   "metadata": {
    "colab": {
     "base_uri": "https://localhost:8080/"
    },
    "executionInfo": {
     "elapsed": 17,
     "status": "ok",
     "timestamp": 1680268124831,
     "user": {
      "displayName": "arthur simas",
      "userId": "04073960446793716118"
     },
     "user_tz": 180
    },
    "id": "7094a2d6-2248-4742-b827-2e1860ea813e",
    "outputId": "c83d8358-6529-4e82-a5ef-faad8137589b"
   },
   "outputs": [
    {
     "data": {
      "text/plain": [
       "Index(['fmt', 'afmt', 'cpn', 'el', 'ns', 'fexp', 'cl', 'seq', 'docid', 'ei',\n",
       "       'event', 'plid', 'cbrand', 'cbr', 'cbrver', 'c', 'cver', 'cplayer',\n",
       "       'cmodel', 'cos', 'cosver', 'cplatform', 'vps', 'afs', 'vfs', 'view',\n",
       "       'bwe', 'vis', 'cmt', 'conn', 'bh', 'user_intent', 'bwm', 'bat', 'df',\n",
       "       'ctmp'],\n",
       "      dtype='object')"
      ]
     },
     "execution_count": 28,
     "metadata": {},
     "output_type": "execute_result"
    }
   ],
   "source": [
    "qoe_df = pd.DataFrame(t_api_stats_qoe_pcap)\n",
    "qoe_df.columns"
   ]
  },
  {
   "cell_type": "code",
   "execution_count": 29,
   "id": "4a7a3f61-5114-4d37-aea9-e602503eaba6",
   "metadata": {
    "colab": {
     "base_uri": "https://localhost:8080/",
     "height": 1000
    },
    "executionInfo": {
     "elapsed": 501,
     "status": "ok",
     "timestamp": 1680268125318,
     "user": {
      "displayName": "arthur simas",
      "userId": "04073960446793716118"
     },
     "user_tz": 180
    },
    "id": "4a7a3f61-5114-4d37-aea9-e602503eaba6",
    "outputId": "19e34c98-2f18-48f5-cb5a-98521d7bdec8"
   },
   "outputs": [
    {
     "data": {
      "text/html": [
       "<div>\n",
       "<style scoped>\n",
       "    .dataframe tbody tr th:only-of-type {\n",
       "        vertical-align: middle;\n",
       "    }\n",
       "\n",
       "    .dataframe tbody tr th {\n",
       "        vertical-align: top;\n",
       "    }\n",
       "\n",
       "    .dataframe thead th {\n",
       "        text-align: right;\n",
       "    }\n",
       "</style>\n",
       "<table border=\"1\" class=\"dataframe\">\n",
       "  <thead>\n",
       "    <tr style=\"text-align: right;\">\n",
       "      <th></th>\n",
       "      <th>fmt</th>\n",
       "      <th>afmt</th>\n",
       "      <th>cpn</th>\n",
       "      <th>el</th>\n",
       "      <th>ns</th>\n",
       "      <th>fexp</th>\n",
       "      <th>cl</th>\n",
       "      <th>seq</th>\n",
       "      <th>docid</th>\n",
       "      <th>ei</th>\n",
       "      <th>event</th>\n",
       "      <th>plid</th>\n",
       "      <th>cbrand</th>\n",
       "      <th>cbr</th>\n",
       "      <th>cbrver</th>\n",
       "      <th>c</th>\n",
       "      <th>cver</th>\n",
       "      <th>cplayer</th>\n",
       "      <th>cmodel</th>\n",
       "      <th>cos</th>\n",
       "      <th>cosver</th>\n",
       "      <th>cplatform</th>\n",
       "      <th>vps</th>\n",
       "      <th>afs</th>\n",
       "      <th>vfs</th>\n",
       "      <th>view</th>\n",
       "      <th>bwe</th>\n",
       "      <th>vis</th>\n",
       "      <th>cmt</th>\n",
       "      <th>conn</th>\n",
       "      <th>bh</th>\n",
       "      <th>user_intent</th>\n",
       "      <th>bwm</th>\n",
       "      <th>bat</th>\n",
       "      <th>df</th>\n",
       "      <th>ctmp</th>\n",
       "    </tr>\n",
       "  </thead>\n",
       "  <tbody>\n",
       "    <tr>\n",
       "      <th>0</th>\n",
       "      <td>243</td>\n",
       "      <td>251</td>\n",
       "      <td>oMaRrct9XOA6WR0D</td>\n",
       "      <td>detailpage</td>\n",
       "      <td>yt</td>\n",
       "      <td>23848211,23983296,24004644,24007246,24080738,2...</td>\n",
       "      <td>509820939</td>\n",
       "      <td>1</td>\n",
       "      <td>d5r-kEmQfBg</td>\n",
       "      <td>gA7vY83zJeyPobIPq_OcmAg</td>\n",
       "      <td>streamingstats</td>\n",
       "      <td>AAX03ncKwXUwJiIT</td>\n",
       "      <td>samsung</td>\n",
       "      <td>Chrome Mobile</td>\n",
       "      <td>109.0.0.0</td>\n",
       "      <td>MWEB</td>\n",
       "      <td>2.20230215.10.00</td>\n",
       "      <td>UNIPLAYER</td>\n",
       "      <td>sm-g991b</td>\n",
       "      <td>Android</td>\n",
       "      <td>13</td>\n",
       "      <td>MOBILE</td>\n",
       "      <td>[{'at': 0.0, 'value': 'unstarted/cued'}, {'at'...</td>\n",
       "      <td>0.008:251::i</td>\n",
       "      <td>0.008:243:243::d</td>\n",
       "      <td>[{'at': 0.008, 'width': 360, 'height': 203}]</td>\n",
       "      <td>[{'at': 0.008, 'value': 752419}]</td>\n",
       "      <td>0.008:0</td>\n",
       "      <td>[{'at': 0.008, 'value': 0.0}]</td>\n",
       "      <td>0.008:1</td>\n",
       "      <td>[{'at': 0.008, 'value': 0.0}]</td>\n",
       "      <td>NaN</td>\n",
       "      <td>NaN</td>\n",
       "      <td>NaN</td>\n",
       "      <td>NaN</td>\n",
       "      <td>NaN</td>\n",
       "    </tr>\n",
       "    <tr>\n",
       "      <th>1</th>\n",
       "      <td>243</td>\n",
       "      <td>251</td>\n",
       "      <td>oMaRrct9XOA6WR0D</td>\n",
       "      <td>detailpage</td>\n",
       "      <td>yt</td>\n",
       "      <td>23848211,23983296,24004644,24007246,24080738,2...</td>\n",
       "      <td>509820939</td>\n",
       "      <td>2</td>\n",
       "      <td>d5r-kEmQfBg</td>\n",
       "      <td>gA7vY83zJeyPobIPq_OcmAg</td>\n",
       "      <td>streamingstats</td>\n",
       "      <td>AAX03ncKwXUwJiIT</td>\n",
       "      <td>samsung</td>\n",
       "      <td>Chrome Mobile</td>\n",
       "      <td>109.0.0.0</td>\n",
       "      <td>MWEB</td>\n",
       "      <td>2.20230215.10.00</td>\n",
       "      <td>UNIPLAYER</td>\n",
       "      <td>sm-g991b</td>\n",
       "      <td>Android</td>\n",
       "      <td>13</td>\n",
       "      <td>MOBILE</td>\n",
       "      <td>[{'at': 0.037, 'value': 'buffering'}, {'at': 0...</td>\n",
       "      <td>NaN</td>\n",
       "      <td>NaN</td>\n",
       "      <td>NaN</td>\n",
       "      <td>[{'at': 1.965, 'value': 909374}]</td>\n",
       "      <td>NaN</td>\n",
       "      <td>[{'at': 0.037, 'value': 0.0}, {'at': 0.858, 'v...</td>\n",
       "      <td>NaN</td>\n",
       "      <td>[{'at': 0.858, 'value': 7.401}, {'at': 1.965, ...</td>\n",
       "      <td>0</td>\n",
       "      <td>[{'at': 1.965, 'downloaded_bytes': 1289567, 's...</td>\n",
       "      <td>[{'at': 1.965, 'percentage': 47.0, 'is_chargin...</td>\n",
       "      <td>[{'at': 1.965, 'value': 0}]</td>\n",
       "      <td>NaN</td>\n",
       "    </tr>\n",
       "    <tr>\n",
       "      <th>2</th>\n",
       "      <td>243</td>\n",
       "      <td>251</td>\n",
       "      <td>0p1K2OOv-yODQEOd</td>\n",
       "      <td>detailpage</td>\n",
       "      <td>yt</td>\n",
       "      <td>23848211,23983296,24004644,24007246,24080738,2...</td>\n",
       "      <td>509820939</td>\n",
       "      <td>1</td>\n",
       "      <td>d5r-kEmQfBg</td>\n",
       "      <td>gw7vY-jvFq-i4dUPiO6EyAc</td>\n",
       "      <td>streamingstats</td>\n",
       "      <td>AAX03nc0skm3aacq</td>\n",
       "      <td>samsung</td>\n",
       "      <td>Chrome Mobile</td>\n",
       "      <td>109.0.0.0</td>\n",
       "      <td>MWEB</td>\n",
       "      <td>2.20230215.10.00</td>\n",
       "      <td>UNIPLAYER</td>\n",
       "      <td>sm-g991b</td>\n",
       "      <td>Android</td>\n",
       "      <td>13</td>\n",
       "      <td>MOBILE</td>\n",
       "      <td>[{'at': 0.0, 'value': 'unstarted/cued'}, {'at'...</td>\n",
       "      <td>0.009:251::i</td>\n",
       "      <td>0.009:243:243::d</td>\n",
       "      <td>[{'at': 0.009, 'width': 360, 'height': 203}]</td>\n",
       "      <td>[{'at': 0.009, 'value': 752419}]</td>\n",
       "      <td>0.009:0</td>\n",
       "      <td>[{'at': 0.009, 'value': 0.0}]</td>\n",
       "      <td>0.009:1</td>\n",
       "      <td>[{'at': 0.009, 'value': 0.0}]</td>\n",
       "      <td>NaN</td>\n",
       "      <td>NaN</td>\n",
       "      <td>NaN</td>\n",
       "      <td>NaN</td>\n",
       "      <td>NaN</td>\n",
       "    </tr>\n",
       "    <tr>\n",
       "      <th>3</th>\n",
       "      <td>243</td>\n",
       "      <td>251</td>\n",
       "      <td>0p1K2OOv-yODQEOd</td>\n",
       "      <td>detailpage</td>\n",
       "      <td>yt</td>\n",
       "      <td>23848211,23983296,24004644,24007246,24080738,2...</td>\n",
       "      <td>509820939</td>\n",
       "      <td>2</td>\n",
       "      <td>d5r-kEmQfBg</td>\n",
       "      <td>gw7vY-jvFq-i4dUPiO6EyAc</td>\n",
       "      <td>streamingstats</td>\n",
       "      <td>AAX03nc0skm3aacq</td>\n",
       "      <td>samsung</td>\n",
       "      <td>Chrome Mobile</td>\n",
       "      <td>109.0.0.0</td>\n",
       "      <td>MWEB</td>\n",
       "      <td>2.20230215.10.00</td>\n",
       "      <td>UNIPLAYER</td>\n",
       "      <td>sm-g991b</td>\n",
       "      <td>Android</td>\n",
       "      <td>13</td>\n",
       "      <td>MOBILE</td>\n",
       "      <td>[{'at': 0.023, 'value': 'buffering'}, {'at': 0...</td>\n",
       "      <td>NaN</td>\n",
       "      <td>NaN</td>\n",
       "      <td>NaN</td>\n",
       "      <td>[{'at': 10.005, 'value': 1684310}]</td>\n",
       "      <td>NaN</td>\n",
       "      <td>[{'at': 0.023, 'value': 0.0}, {'at': 0.293, 'v...</td>\n",
       "      <td>NaN</td>\n",
       "      <td>[{'at': 0.293, 'value': 4.5}, {'at': 10.005, '...</td>\n",
       "      <td>0</td>\n",
       "      <td>[{'at': 10.005, 'downloaded_bytes': 2661621, '...</td>\n",
       "      <td>[{'at': 10.005, 'percentage': 47.0, 'is_chargi...</td>\n",
       "      <td>[{'at': 10.005, 'value': 1}]</td>\n",
       "      <td>NaN</td>\n",
       "    </tr>\n",
       "    <tr>\n",
       "      <th>4</th>\n",
       "      <td>243</td>\n",
       "      <td>251</td>\n",
       "      <td>0p1K2OOv-yODQEOd</td>\n",
       "      <td>detailpage</td>\n",
       "      <td>yt</td>\n",
       "      <td>23848211,23983296,24004644,24007246,24080738,2...</td>\n",
       "      <td>509820939</td>\n",
       "      <td>3</td>\n",
       "      <td>d5r-kEmQfBg</td>\n",
       "      <td>gw7vY-jvFq-i4dUPiO6EyAc</td>\n",
       "      <td>streamingstats</td>\n",
       "      <td>AAX03nc0skm3aacq</td>\n",
       "      <td>samsung</td>\n",
       "      <td>Chrome Mobile</td>\n",
       "      <td>109.0.0.0</td>\n",
       "      <td>MWEB</td>\n",
       "      <td>2.20230215.10.00</td>\n",
       "      <td>UNIPLAYER</td>\n",
       "      <td>sm-g991b</td>\n",
       "      <td>Android</td>\n",
       "      <td>13</td>\n",
       "      <td>MOBILE</td>\n",
       "      <td>[{'at': 50.005, 'value': 'playing'}]</td>\n",
       "      <td>NaN</td>\n",
       "      <td>NaN</td>\n",
       "      <td>NaN</td>\n",
       "      <td>[{'at': 50.005, 'value': 1277198}]</td>\n",
       "      <td>NaN</td>\n",
       "      <td>[{'at': 50.005, 'value': 49.58}]</td>\n",
       "      <td>NaN</td>\n",
       "      <td>[{'at': 50.005, 'value': 82.341}]</td>\n",
       "      <td>NaN</td>\n",
       "      <td>[{'at': 50.005, 'downloaded_bytes': 5020251, '...</td>\n",
       "      <td>[{'at': 50.005, 'percentage': 47.0, 'is_chargi...</td>\n",
       "      <td>[{'at': 50.005, 'value': 1}]</td>\n",
       "      <td>NaN</td>\n",
       "    </tr>\n",
       "    <tr>\n",
       "      <th>5</th>\n",
       "      <td>243</td>\n",
       "      <td>251</td>\n",
       "      <td>0p1K2OOv-yODQEOd</td>\n",
       "      <td>detailpage</td>\n",
       "      <td>yt</td>\n",
       "      <td>23848211,23983296,24004644,24007246,24080738,2...</td>\n",
       "      <td>509820939</td>\n",
       "      <td>4</td>\n",
       "      <td>d5r-kEmQfBg</td>\n",
       "      <td>gw7vY-jvFq-i4dUPiO6EyAc</td>\n",
       "      <td>streamingstats</td>\n",
       "      <td>AAX03nc0skm3aacq</td>\n",
       "      <td>samsung</td>\n",
       "      <td>Chrome Mobile</td>\n",
       "      <td>109.0.0.0</td>\n",
       "      <td>MWEB</td>\n",
       "      <td>2.20230215.10.00</td>\n",
       "      <td>UNIPLAYER</td>\n",
       "      <td>sm-g991b</td>\n",
       "      <td>Android</td>\n",
       "      <td>13</td>\n",
       "      <td>MOBILE</td>\n",
       "      <td>[{'at': 80.005, 'value': 'playing'}]</td>\n",
       "      <td>NaN</td>\n",
       "      <td>NaN</td>\n",
       "      <td>NaN</td>\n",
       "      <td>[{'at': 80.005, 'value': 720374}]</td>\n",
       "      <td>NaN</td>\n",
       "      <td>[{'at': 80.005, 'value': 79.58}]</td>\n",
       "      <td>NaN</td>\n",
       "      <td>[{'at': 80.005, 'value': 120.593}]</td>\n",
       "      <td>NaN</td>\n",
       "      <td>[{'at': 80.005, 'downloaded_bytes': 4284958, '...</td>\n",
       "      <td>[{'at': 80.005, 'percentage': 47.0, 'is_chargi...</td>\n",
       "      <td>NaN</td>\n",
       "      <td>NaN</td>\n",
       "    </tr>\n",
       "    <tr>\n",
       "      <th>6</th>\n",
       "      <td>243</td>\n",
       "      <td>251</td>\n",
       "      <td>0p1K2OOv-yODQEOd</td>\n",
       "      <td>detailpage</td>\n",
       "      <td>yt</td>\n",
       "      <td>23848211,23983296,24004644,24007246,24080738,2...</td>\n",
       "      <td>509820939</td>\n",
       "      <td>5</td>\n",
       "      <td>d5r-kEmQfBg</td>\n",
       "      <td>gw7vY-jvFq-i4dUPiO6EyAc</td>\n",
       "      <td>streamingstats</td>\n",
       "      <td>AAX03nc0skm3aacq</td>\n",
       "      <td>samsung</td>\n",
       "      <td>Chrome Mobile</td>\n",
       "      <td>109.0.0.0</td>\n",
       "      <td>MWEB</td>\n",
       "      <td>2.20230215.10.00</td>\n",
       "      <td>UNIPLAYER</td>\n",
       "      <td>sm-g991b</td>\n",
       "      <td>Android</td>\n",
       "      <td>13</td>\n",
       "      <td>MOBILE</td>\n",
       "      <td>[{'at': 110.005, 'value': 'playing'}]</td>\n",
       "      <td>NaN</td>\n",
       "      <td>NaN</td>\n",
       "      <td>NaN</td>\n",
       "      <td>[{'at': 110.005, 'value': 924948}]</td>\n",
       "      <td>NaN</td>\n",
       "      <td>[{'at': 110.005, 'value': 109.58}]</td>\n",
       "      <td>NaN</td>\n",
       "      <td>[{'at': 110.005, 'value': 120.578}]</td>\n",
       "      <td>NaN</td>\n",
       "      <td>[{'at': 110.005, 'downloaded_bytes': 1663232, ...</td>\n",
       "      <td>[{'at': 110.005, 'percentage': 47.0, 'is_charg...</td>\n",
       "      <td>NaN</td>\n",
       "      <td>NaN</td>\n",
       "    </tr>\n",
       "    <tr>\n",
       "      <th>7</th>\n",
       "      <td>243</td>\n",
       "      <td>251</td>\n",
       "      <td>0p1K2OOv-yODQEOd</td>\n",
       "      <td>detailpage</td>\n",
       "      <td>yt</td>\n",
       "      <td>23848211,23983296,24004644,24007246,24080738,2...</td>\n",
       "      <td>509820939</td>\n",
       "      <td>6</td>\n",
       "      <td>d5r-kEmQfBg</td>\n",
       "      <td>gw7vY-jvFq-i4dUPiO6EyAc</td>\n",
       "      <td>streamingstats</td>\n",
       "      <td>AAX03nc0skm3aacq</td>\n",
       "      <td>samsung</td>\n",
       "      <td>Chrome Mobile</td>\n",
       "      <td>109.0.0.0</td>\n",
       "      <td>MWEB</td>\n",
       "      <td>2.20230215.10.00</td>\n",
       "      <td>UNIPLAYER</td>\n",
       "      <td>sm-g991b</td>\n",
       "      <td>Android</td>\n",
       "      <td>13</td>\n",
       "      <td>MOBILE</td>\n",
       "      <td>[{'at': 140.021, 'value': 'playing'}]</td>\n",
       "      <td>NaN</td>\n",
       "      <td>NaN</td>\n",
       "      <td>NaN</td>\n",
       "      <td>[{'at': 140.021, 'value': 1541416}]</td>\n",
       "      <td>NaN</td>\n",
       "      <td>[{'at': 140.021, 'value': 139.596}]</td>\n",
       "      <td>NaN</td>\n",
       "      <td>[{'at': 140.021, 'value': 251.733}]</td>\n",
       "      <td>NaN</td>\n",
       "      <td>[{'at': 140.021, 'downloaded_bytes': 230306, '...</td>\n",
       "      <td>[{'at': 140.021, 'percentage': 47.0, 'is_charg...</td>\n",
       "      <td>NaN</td>\n",
       "      <td>NaN</td>\n",
       "    </tr>\n",
       "    <tr>\n",
       "      <th>8</th>\n",
       "      <td>243</td>\n",
       "      <td>251</td>\n",
       "      <td>0p1K2OOv-yODQEOd</td>\n",
       "      <td>detailpage</td>\n",
       "      <td>yt</td>\n",
       "      <td>23848211,23983296,24004644,24007246,24080738,2...</td>\n",
       "      <td>509820939</td>\n",
       "      <td>7</td>\n",
       "      <td>d5r-kEmQfBg</td>\n",
       "      <td>gw7vY-jvFq-i4dUPiO6EyAc</td>\n",
       "      <td>streamingstats</td>\n",
       "      <td>AAX03nc0skm3aacq</td>\n",
       "      <td>samsung</td>\n",
       "      <td>Chrome Mobile</td>\n",
       "      <td>109.0.0.0</td>\n",
       "      <td>MWEB</td>\n",
       "      <td>2.20230215.10.00</td>\n",
       "      <td>UNIPLAYER</td>\n",
       "      <td>sm-g991b</td>\n",
       "      <td>Android</td>\n",
       "      <td>13</td>\n",
       "      <td>MOBILE</td>\n",
       "      <td>[{'at': 180.012, 'value': 'playing'}]</td>\n",
       "      <td>NaN</td>\n",
       "      <td>NaN</td>\n",
       "      <td>NaN</td>\n",
       "      <td>[{'at': 180.012, 'value': 1541416}]</td>\n",
       "      <td>NaN</td>\n",
       "      <td>[{'at': 180.012, 'value': 179.591}]</td>\n",
       "      <td>NaN</td>\n",
       "      <td>[{'at': 180.012, 'value': 251.733}]</td>\n",
       "      <td>NaN</td>\n",
       "      <td>NaN</td>\n",
       "      <td>[{'at': 180.012, 'percentage': 47.0, 'is_charg...</td>\n",
       "      <td>NaN</td>\n",
       "      <td>NaN</td>\n",
       "    </tr>\n",
       "    <tr>\n",
       "      <th>9</th>\n",
       "      <td>243</td>\n",
       "      <td>251</td>\n",
       "      <td>0p1K2OOv-yODQEOd</td>\n",
       "      <td>detailpage</td>\n",
       "      <td>yt</td>\n",
       "      <td>23848211,23983296,24004644,24007246,24080738,2...</td>\n",
       "      <td>509820939</td>\n",
       "      <td>8</td>\n",
       "      <td>d5r-kEmQfBg</td>\n",
       "      <td>gw7vY-jvFq-i4dUPiO6EyAc</td>\n",
       "      <td>streamingstats</td>\n",
       "      <td>AAX03nc0skm3aacq</td>\n",
       "      <td>samsung</td>\n",
       "      <td>Chrome Mobile</td>\n",
       "      <td>109.0.0.0</td>\n",
       "      <td>MWEB</td>\n",
       "      <td>2.20230215.10.00</td>\n",
       "      <td>UNIPLAYER</td>\n",
       "      <td>sm-g991b</td>\n",
       "      <td>Android</td>\n",
       "      <td>13</td>\n",
       "      <td>MOBILE</td>\n",
       "      <td>[{'at': 220.015, 'value': 'playing'}]</td>\n",
       "      <td>NaN</td>\n",
       "      <td>NaN</td>\n",
       "      <td>NaN</td>\n",
       "      <td>[{'at': 220.015, 'value': 1541416}]</td>\n",
       "      <td>NaN</td>\n",
       "      <td>[{'at': 220.015, 'value': 219.59}]</td>\n",
       "      <td>NaN</td>\n",
       "      <td>[{'at': 220.015, 'value': 251.733}]</td>\n",
       "      <td>NaN</td>\n",
       "      <td>NaN</td>\n",
       "      <td>[{'at': 220.015, 'percentage': 47.0, 'is_charg...</td>\n",
       "      <td>[{'at': 220.015, 'value': 4}]</td>\n",
       "      <td>NaN</td>\n",
       "    </tr>\n",
       "    <tr>\n",
       "      <th>10</th>\n",
       "      <td>243</td>\n",
       "      <td>251</td>\n",
       "      <td>0p1K2OOv-yODQEOd</td>\n",
       "      <td>detailpage</td>\n",
       "      <td>yt</td>\n",
       "      <td>23848211,23983296,24004644,24007246,24080738,2...</td>\n",
       "      <td>509820939</td>\n",
       "      <td>9</td>\n",
       "      <td>d5r-kEmQfBg</td>\n",
       "      <td>gw7vY-jvFq-i4dUPiO6EyAc</td>\n",
       "      <td>streamingstats</td>\n",
       "      <td>AAX03nc0skm3aacq</td>\n",
       "      <td>samsung</td>\n",
       "      <td>Chrome Mobile</td>\n",
       "      <td>109.0.0.0</td>\n",
       "      <td>MWEB</td>\n",
       "      <td>2.20230215.10.00</td>\n",
       "      <td>UNIPLAYER</td>\n",
       "      <td>sm-g991b</td>\n",
       "      <td>Android</td>\n",
       "      <td>13</td>\n",
       "      <td>MOBILE</td>\n",
       "      <td>[{'at': 252.205, 'value': 'ended'}]</td>\n",
       "      <td>NaN</td>\n",
       "      <td>NaN</td>\n",
       "      <td>NaN</td>\n",
       "      <td>[{'at': 252.205, 'value': 1541416}]</td>\n",
       "      <td>NaN</td>\n",
       "      <td>[{'at': 252.205, 'value': 251.741}, {'at': 252...</td>\n",
       "      <td>NaN</td>\n",
       "      <td>[{'at': 252.205, 'value': 251.733}]</td>\n",
       "      <td>NaN</td>\n",
       "      <td>NaN</td>\n",
       "      <td>[{'at': 252.205, 'percentage': 46.0, 'is_charg...</td>\n",
       "      <td>NaN</td>\n",
       "      <td>NaN</td>\n",
       "    </tr>\n",
       "    <tr>\n",
       "      <th>11</th>\n",
       "      <td>243</td>\n",
       "      <td>251</td>\n",
       "      <td>0p1K2OOv-yODQEOd</td>\n",
       "      <td>detailpage</td>\n",
       "      <td>yt</td>\n",
       "      <td>23848211,23983296,24004644,24007246,24080738,2...</td>\n",
       "      <td>509820939</td>\n",
       "      <td>10</td>\n",
       "      <td>d5r-kEmQfBg</td>\n",
       "      <td>gw7vY-jvFq-i4dUPiO6EyAc</td>\n",
       "      <td>streamingstats</td>\n",
       "      <td>AAX03nc0skm3aacq</td>\n",
       "      <td>samsung</td>\n",
       "      <td>Chrome Mobile</td>\n",
       "      <td>109.0.0.0</td>\n",
       "      <td>MWEB</td>\n",
       "      <td>2.20230215.10.00</td>\n",
       "      <td>UNIPLAYER</td>\n",
       "      <td>sm-g991b</td>\n",
       "      <td>Android</td>\n",
       "      <td>13</td>\n",
       "      <td>MOBILE</td>\n",
       "      <td>NaN</td>\n",
       "      <td>NaN</td>\n",
       "      <td>NaN</td>\n",
       "      <td>NaN</td>\n",
       "      <td>NaN</td>\n",
       "      <td>261.640:3</td>\n",
       "      <td>[{'at': 261.64, 'value': 251.741}]</td>\n",
       "      <td>261.640:7</td>\n",
       "      <td>[{'at': 261.64, 'value': 0.0}]</td>\n",
       "      <td>NaN</td>\n",
       "      <td>NaN</td>\n",
       "      <td>[{'at': 261.64, 'percentage': 46.0, 'is_chargi...</td>\n",
       "      <td>NaN</td>\n",
       "      <td>bgmobile:t.261619;suspend.1</td>\n",
       "    </tr>\n",
       "  </tbody>\n",
       "</table>\n",
       "</div>"
      ],
      "text/plain": [
       "    fmt afmt               cpn          el  ns   \n",
       "0   243  251  oMaRrct9XOA6WR0D  detailpage  yt  \\\n",
       "1   243  251  oMaRrct9XOA6WR0D  detailpage  yt   \n",
       "2   243  251  0p1K2OOv-yODQEOd  detailpage  yt   \n",
       "3   243  251  0p1K2OOv-yODQEOd  detailpage  yt   \n",
       "4   243  251  0p1K2OOv-yODQEOd  detailpage  yt   \n",
       "5   243  251  0p1K2OOv-yODQEOd  detailpage  yt   \n",
       "6   243  251  0p1K2OOv-yODQEOd  detailpage  yt   \n",
       "7   243  251  0p1K2OOv-yODQEOd  detailpage  yt   \n",
       "8   243  251  0p1K2OOv-yODQEOd  detailpage  yt   \n",
       "9   243  251  0p1K2OOv-yODQEOd  detailpage  yt   \n",
       "10  243  251  0p1K2OOv-yODQEOd  detailpage  yt   \n",
       "11  243  251  0p1K2OOv-yODQEOd  detailpage  yt   \n",
       "\n",
       "                                                 fexp         cl seq   \n",
       "0   23848211,23983296,24004644,24007246,24080738,2...  509820939   1  \\\n",
       "1   23848211,23983296,24004644,24007246,24080738,2...  509820939   2   \n",
       "2   23848211,23983296,24004644,24007246,24080738,2...  509820939   1   \n",
       "3   23848211,23983296,24004644,24007246,24080738,2...  509820939   2   \n",
       "4   23848211,23983296,24004644,24007246,24080738,2...  509820939   3   \n",
       "5   23848211,23983296,24004644,24007246,24080738,2...  509820939   4   \n",
       "6   23848211,23983296,24004644,24007246,24080738,2...  509820939   5   \n",
       "7   23848211,23983296,24004644,24007246,24080738,2...  509820939   6   \n",
       "8   23848211,23983296,24004644,24007246,24080738,2...  509820939   7   \n",
       "9   23848211,23983296,24004644,24007246,24080738,2...  509820939   8   \n",
       "10  23848211,23983296,24004644,24007246,24080738,2...  509820939   9   \n",
       "11  23848211,23983296,24004644,24007246,24080738,2...  509820939  10   \n",
       "\n",
       "          docid                       ei           event              plid   \n",
       "0   d5r-kEmQfBg  gA7vY83zJeyPobIPq_OcmAg  streamingstats  AAX03ncKwXUwJiIT  \\\n",
       "1   d5r-kEmQfBg  gA7vY83zJeyPobIPq_OcmAg  streamingstats  AAX03ncKwXUwJiIT   \n",
       "2   d5r-kEmQfBg  gw7vY-jvFq-i4dUPiO6EyAc  streamingstats  AAX03nc0skm3aacq   \n",
       "3   d5r-kEmQfBg  gw7vY-jvFq-i4dUPiO6EyAc  streamingstats  AAX03nc0skm3aacq   \n",
       "4   d5r-kEmQfBg  gw7vY-jvFq-i4dUPiO6EyAc  streamingstats  AAX03nc0skm3aacq   \n",
       "5   d5r-kEmQfBg  gw7vY-jvFq-i4dUPiO6EyAc  streamingstats  AAX03nc0skm3aacq   \n",
       "6   d5r-kEmQfBg  gw7vY-jvFq-i4dUPiO6EyAc  streamingstats  AAX03nc0skm3aacq   \n",
       "7   d5r-kEmQfBg  gw7vY-jvFq-i4dUPiO6EyAc  streamingstats  AAX03nc0skm3aacq   \n",
       "8   d5r-kEmQfBg  gw7vY-jvFq-i4dUPiO6EyAc  streamingstats  AAX03nc0skm3aacq   \n",
       "9   d5r-kEmQfBg  gw7vY-jvFq-i4dUPiO6EyAc  streamingstats  AAX03nc0skm3aacq   \n",
       "10  d5r-kEmQfBg  gw7vY-jvFq-i4dUPiO6EyAc  streamingstats  AAX03nc0skm3aacq   \n",
       "11  d5r-kEmQfBg  gw7vY-jvFq-i4dUPiO6EyAc  streamingstats  AAX03nc0skm3aacq   \n",
       "\n",
       "     cbrand            cbr     cbrver     c              cver    cplayer   \n",
       "0   samsung  Chrome Mobile  109.0.0.0  MWEB  2.20230215.10.00  UNIPLAYER  \\\n",
       "1   samsung  Chrome Mobile  109.0.0.0  MWEB  2.20230215.10.00  UNIPLAYER   \n",
       "2   samsung  Chrome Mobile  109.0.0.0  MWEB  2.20230215.10.00  UNIPLAYER   \n",
       "3   samsung  Chrome Mobile  109.0.0.0  MWEB  2.20230215.10.00  UNIPLAYER   \n",
       "4   samsung  Chrome Mobile  109.0.0.0  MWEB  2.20230215.10.00  UNIPLAYER   \n",
       "5   samsung  Chrome Mobile  109.0.0.0  MWEB  2.20230215.10.00  UNIPLAYER   \n",
       "6   samsung  Chrome Mobile  109.0.0.0  MWEB  2.20230215.10.00  UNIPLAYER   \n",
       "7   samsung  Chrome Mobile  109.0.0.0  MWEB  2.20230215.10.00  UNIPLAYER   \n",
       "8   samsung  Chrome Mobile  109.0.0.0  MWEB  2.20230215.10.00  UNIPLAYER   \n",
       "9   samsung  Chrome Mobile  109.0.0.0  MWEB  2.20230215.10.00  UNIPLAYER   \n",
       "10  samsung  Chrome Mobile  109.0.0.0  MWEB  2.20230215.10.00  UNIPLAYER   \n",
       "11  samsung  Chrome Mobile  109.0.0.0  MWEB  2.20230215.10.00  UNIPLAYER   \n",
       "\n",
       "      cmodel      cos cosver cplatform   \n",
       "0   sm-g991b  Android     13    MOBILE  \\\n",
       "1   sm-g991b  Android     13    MOBILE   \n",
       "2   sm-g991b  Android     13    MOBILE   \n",
       "3   sm-g991b  Android     13    MOBILE   \n",
       "4   sm-g991b  Android     13    MOBILE   \n",
       "5   sm-g991b  Android     13    MOBILE   \n",
       "6   sm-g991b  Android     13    MOBILE   \n",
       "7   sm-g991b  Android     13    MOBILE   \n",
       "8   sm-g991b  Android     13    MOBILE   \n",
       "9   sm-g991b  Android     13    MOBILE   \n",
       "10  sm-g991b  Android     13    MOBILE   \n",
       "11  sm-g991b  Android     13    MOBILE   \n",
       "\n",
       "                                                  vps           afs   \n",
       "0   [{'at': 0.0, 'value': 'unstarted/cued'}, {'at'...  0.008:251::i  \\\n",
       "1   [{'at': 0.037, 'value': 'buffering'}, {'at': 0...           NaN   \n",
       "2   [{'at': 0.0, 'value': 'unstarted/cued'}, {'at'...  0.009:251::i   \n",
       "3   [{'at': 0.023, 'value': 'buffering'}, {'at': 0...           NaN   \n",
       "4                [{'at': 50.005, 'value': 'playing'}]           NaN   \n",
       "5                [{'at': 80.005, 'value': 'playing'}]           NaN   \n",
       "6               [{'at': 110.005, 'value': 'playing'}]           NaN   \n",
       "7               [{'at': 140.021, 'value': 'playing'}]           NaN   \n",
       "8               [{'at': 180.012, 'value': 'playing'}]           NaN   \n",
       "9               [{'at': 220.015, 'value': 'playing'}]           NaN   \n",
       "10                [{'at': 252.205, 'value': 'ended'}]           NaN   \n",
       "11                                                NaN           NaN   \n",
       "\n",
       "                 vfs                                          view   \n",
       "0   0.008:243:243::d  [{'at': 0.008, 'width': 360, 'height': 203}]  \\\n",
       "1                NaN                                           NaN   \n",
       "2   0.009:243:243::d  [{'at': 0.009, 'width': 360, 'height': 203}]   \n",
       "3                NaN                                           NaN   \n",
       "4                NaN                                           NaN   \n",
       "5                NaN                                           NaN   \n",
       "6                NaN                                           NaN   \n",
       "7                NaN                                           NaN   \n",
       "8                NaN                                           NaN   \n",
       "9                NaN                                           NaN   \n",
       "10               NaN                                           NaN   \n",
       "11               NaN                                           NaN   \n",
       "\n",
       "                                    bwe        vis   \n",
       "0      [{'at': 0.008, 'value': 752419}]    0.008:0  \\\n",
       "1      [{'at': 1.965, 'value': 909374}]        NaN   \n",
       "2      [{'at': 0.009, 'value': 752419}]    0.009:0   \n",
       "3    [{'at': 10.005, 'value': 1684310}]        NaN   \n",
       "4    [{'at': 50.005, 'value': 1277198}]        NaN   \n",
       "5     [{'at': 80.005, 'value': 720374}]        NaN   \n",
       "6    [{'at': 110.005, 'value': 924948}]        NaN   \n",
       "7   [{'at': 140.021, 'value': 1541416}]        NaN   \n",
       "8   [{'at': 180.012, 'value': 1541416}]        NaN   \n",
       "9   [{'at': 220.015, 'value': 1541416}]        NaN   \n",
       "10  [{'at': 252.205, 'value': 1541416}]        NaN   \n",
       "11                                  NaN  261.640:3   \n",
       "\n",
       "                                                  cmt       conn   \n",
       "0                       [{'at': 0.008, 'value': 0.0}]    0.008:1  \\\n",
       "1   [{'at': 0.037, 'value': 0.0}, {'at': 0.858, 'v...        NaN   \n",
       "2                       [{'at': 0.009, 'value': 0.0}]    0.009:1   \n",
       "3   [{'at': 0.023, 'value': 0.0}, {'at': 0.293, 'v...        NaN   \n",
       "4                    [{'at': 50.005, 'value': 49.58}]        NaN   \n",
       "5                    [{'at': 80.005, 'value': 79.58}]        NaN   \n",
       "6                  [{'at': 110.005, 'value': 109.58}]        NaN   \n",
       "7                 [{'at': 140.021, 'value': 139.596}]        NaN   \n",
       "8                 [{'at': 180.012, 'value': 179.591}]        NaN   \n",
       "9                  [{'at': 220.015, 'value': 219.59}]        NaN   \n",
       "10  [{'at': 252.205, 'value': 251.741}, {'at': 252...        NaN   \n",
       "11                 [{'at': 261.64, 'value': 251.741}]  261.640:7   \n",
       "\n",
       "                                                   bh user_intent   \n",
       "0                       [{'at': 0.008, 'value': 0.0}]         NaN  \\\n",
       "1   [{'at': 0.858, 'value': 7.401}, {'at': 1.965, ...           0   \n",
       "2                       [{'at': 0.009, 'value': 0.0}]         NaN   \n",
       "3   [{'at': 0.293, 'value': 4.5}, {'at': 10.005, '...           0   \n",
       "4                   [{'at': 50.005, 'value': 82.341}]         NaN   \n",
       "5                  [{'at': 80.005, 'value': 120.593}]         NaN   \n",
       "6                 [{'at': 110.005, 'value': 120.578}]         NaN   \n",
       "7                 [{'at': 140.021, 'value': 251.733}]         NaN   \n",
       "8                 [{'at': 180.012, 'value': 251.733}]         NaN   \n",
       "9                 [{'at': 220.015, 'value': 251.733}]         NaN   \n",
       "10                [{'at': 252.205, 'value': 251.733}]         NaN   \n",
       "11                     [{'at': 261.64, 'value': 0.0}]         NaN   \n",
       "\n",
       "                                                  bwm   \n",
       "0                                                 NaN  \\\n",
       "1   [{'at': 1.965, 'downloaded_bytes': 1289567, 's...   \n",
       "2                                                 NaN   \n",
       "3   [{'at': 10.005, 'downloaded_bytes': 2661621, '...   \n",
       "4   [{'at': 50.005, 'downloaded_bytes': 5020251, '...   \n",
       "5   [{'at': 80.005, 'downloaded_bytes': 4284958, '...   \n",
       "6   [{'at': 110.005, 'downloaded_bytes': 1663232, ...   \n",
       "7   [{'at': 140.021, 'downloaded_bytes': 230306, '...   \n",
       "8                                                 NaN   \n",
       "9                                                 NaN   \n",
       "10                                                NaN   \n",
       "11                                                NaN   \n",
       "\n",
       "                                                  bat   \n",
       "0                                                 NaN  \\\n",
       "1   [{'at': 1.965, 'percentage': 47.0, 'is_chargin...   \n",
       "2                                                 NaN   \n",
       "3   [{'at': 10.005, 'percentage': 47.0, 'is_chargi...   \n",
       "4   [{'at': 50.005, 'percentage': 47.0, 'is_chargi...   \n",
       "5   [{'at': 80.005, 'percentage': 47.0, 'is_chargi...   \n",
       "6   [{'at': 110.005, 'percentage': 47.0, 'is_charg...   \n",
       "7   [{'at': 140.021, 'percentage': 47.0, 'is_charg...   \n",
       "8   [{'at': 180.012, 'percentage': 47.0, 'is_charg...   \n",
       "9   [{'at': 220.015, 'percentage': 47.0, 'is_charg...   \n",
       "10  [{'at': 252.205, 'percentage': 46.0, 'is_charg...   \n",
       "11  [{'at': 261.64, 'percentage': 46.0, 'is_chargi...   \n",
       "\n",
       "                               df                         ctmp  \n",
       "0                             NaN                          NaN  \n",
       "1     [{'at': 1.965, 'value': 0}]                          NaN  \n",
       "2                             NaN                          NaN  \n",
       "3    [{'at': 10.005, 'value': 1}]                          NaN  \n",
       "4    [{'at': 50.005, 'value': 1}]                          NaN  \n",
       "5                             NaN                          NaN  \n",
       "6                             NaN                          NaN  \n",
       "7                             NaN                          NaN  \n",
       "8                             NaN                          NaN  \n",
       "9   [{'at': 220.015, 'value': 4}]                          NaN  \n",
       "10                            NaN                          NaN  \n",
       "11                            NaN  bgmobile:t.261619;suspend.1  "
      ]
     },
     "execution_count": 29,
     "metadata": {},
     "output_type": "execute_result"
    }
   ],
   "source": [
    "qoe_df = pd.json_normalize(t_api_stats_qoe_pcap, sep='.')\n",
    "qoe_df"
   ]
  },
  {
   "cell_type": "code",
   "execution_count": 30,
   "id": "e17ad6f7-6658-4c2a-bbde-5b0238d1f816",
   "metadata": {
    "colab": {
     "base_uri": "https://localhost:8080/",
     "height": 424
    },
    "executionInfo": {
     "elapsed": 21,
     "status": "ok",
     "timestamp": 1680268125319,
     "user": {
      "displayName": "arthur simas",
      "userId": "04073960446793716118"
     },
     "user_tz": 180
    },
    "id": "e17ad6f7-6658-4c2a-bbde-5b0238d1f816",
    "outputId": "ea7b7f99-5157-4418-e0be-02279b1dacdd"
   },
   "outputs": [
    {
     "data": {
      "text/html": [
       "<div>\n",
       "<style scoped>\n",
       "    .dataframe tbody tr th:only-of-type {\n",
       "        vertical-align: middle;\n",
       "    }\n",
       "\n",
       "    .dataframe tbody tr th {\n",
       "        vertical-align: top;\n",
       "    }\n",
       "\n",
       "    .dataframe thead th {\n",
       "        text-align: right;\n",
       "    }\n",
       "</style>\n",
       "<table border=\"1\" class=\"dataframe\">\n",
       "  <thead>\n",
       "    <tr style=\"text-align: right;\">\n",
       "      <th></th>\n",
       "      <th>bwm.at</th>\n",
       "      <th>bwm.downloaded_bytes</th>\n",
       "      <th>bwm.seconds_to_download</th>\n",
       "    </tr>\n",
       "  </thead>\n",
       "  <tbody>\n",
       "    <tr>\n",
       "      <th>0</th>\n",
       "      <td>1.965</td>\n",
       "      <td>1289567</td>\n",
       "      <td>1.424</td>\n",
       "    </tr>\n",
       "    <tr>\n",
       "      <th>1</th>\n",
       "      <td>10.005</td>\n",
       "      <td>2661621</td>\n",
       "      <td>1.157</td>\n",
       "    </tr>\n",
       "    <tr>\n",
       "      <th>2</th>\n",
       "      <td>50.005</td>\n",
       "      <td>5020251</td>\n",
       "      <td>1.124</td>\n",
       "    </tr>\n",
       "    <tr>\n",
       "      <th>3</th>\n",
       "      <td>80.005</td>\n",
       "      <td>4284958</td>\n",
       "      <td>1.415</td>\n",
       "    </tr>\n",
       "    <tr>\n",
       "      <th>4</th>\n",
       "      <td>110.005</td>\n",
       "      <td>1663232</td>\n",
       "      <td>0.380</td>\n",
       "    </tr>\n",
       "    <tr>\n",
       "      <th>5</th>\n",
       "      <td>140.021</td>\n",
       "      <td>230306</td>\n",
       "      <td>0.158</td>\n",
       "    </tr>\n",
       "  </tbody>\n",
       "</table>\n",
       "</div>"
      ],
      "text/plain": [
       "    bwm.at  bwm.downloaded_bytes  bwm.seconds_to_download\n",
       "0    1.965               1289567                    1.424\n",
       "1   10.005               2661621                    1.157\n",
       "2   50.005               5020251                    1.124\n",
       "3   80.005               4284958                    1.415\n",
       "4  110.005               1663232                    0.380\n",
       "5  140.021                230306                    0.158"
      ]
     },
     "execution_count": 30,
     "metadata": {},
     "output_type": "execute_result"
    }
   ],
   "source": [
    "n = 'bwm'\n",
    "k = [ { n: i } for i in sum([ i.get(n, []) for i in t_api_stats_qoe_pcap ], []) ]\n",
    "bwm_df = pd.json_normalize(k)\n",
    "bwm_df"
   ]
  },
  {
   "cell_type": "code",
   "execution_count": 31,
   "id": "06c2fa3d-7a32-47e7-bfa2-159209d33d5d",
   "metadata": {
    "colab": {
     "base_uri": "https://localhost:8080/",
     "height": 677
    },
    "executionInfo": {
     "elapsed": 21,
     "status": "ok",
     "timestamp": 1680268125320,
     "user": {
      "displayName": "arthur simas",
      "userId": "04073960446793716118"
     },
     "user_tz": 180
    },
    "id": "06c2fa3d-7a32-47e7-bfa2-159209d33d5d",
    "outputId": "9a56ca28-8546-4c11-c357-4ad424893da0"
   },
   "outputs": [
    {
     "data": {
      "text/html": [
       "<div>\n",
       "<style scoped>\n",
       "    .dataframe tbody tr th:only-of-type {\n",
       "        vertical-align: middle;\n",
       "    }\n",
       "\n",
       "    .dataframe tbody tr th {\n",
       "        vertical-align: top;\n",
       "    }\n",
       "\n",
       "    .dataframe thead th {\n",
       "        text-align: right;\n",
       "    }\n",
       "</style>\n",
       "<table border=\"1\" class=\"dataframe\">\n",
       "  <thead>\n",
       "    <tr style=\"text-align: right;\">\n",
       "      <th></th>\n",
       "      <th>vps.at</th>\n",
       "      <th>vps.value</th>\n",
       "    </tr>\n",
       "  </thead>\n",
       "  <tbody>\n",
       "    <tr>\n",
       "      <th>0</th>\n",
       "      <td>0.000</td>\n",
       "      <td>unstarted/cued</td>\n",
       "    </tr>\n",
       "    <tr>\n",
       "      <th>1</th>\n",
       "      <td>0.008</td>\n",
       "      <td>unstarted/cued</td>\n",
       "    </tr>\n",
       "    <tr>\n",
       "      <th>2</th>\n",
       "      <td>0.037</td>\n",
       "      <td>buffering</td>\n",
       "    </tr>\n",
       "    <tr>\n",
       "      <th>3</th>\n",
       "      <td>0.858</td>\n",
       "      <td>playing</td>\n",
       "    </tr>\n",
       "    <tr>\n",
       "      <th>4</th>\n",
       "      <td>1.965</td>\n",
       "      <td>unstarted/cued</td>\n",
       "    </tr>\n",
       "    <tr>\n",
       "      <th>5</th>\n",
       "      <td>0.000</td>\n",
       "      <td>unstarted/cued</td>\n",
       "    </tr>\n",
       "    <tr>\n",
       "      <th>6</th>\n",
       "      <td>0.009</td>\n",
       "      <td>unstarted/cued</td>\n",
       "    </tr>\n",
       "    <tr>\n",
       "      <th>7</th>\n",
       "      <td>0.023</td>\n",
       "      <td>buffering</td>\n",
       "    </tr>\n",
       "    <tr>\n",
       "      <th>8</th>\n",
       "      <td>0.293</td>\n",
       "      <td>playing</td>\n",
       "    </tr>\n",
       "    <tr>\n",
       "      <th>9</th>\n",
       "      <td>10.005</td>\n",
       "      <td>playing</td>\n",
       "    </tr>\n",
       "    <tr>\n",
       "      <th>10</th>\n",
       "      <td>50.005</td>\n",
       "      <td>playing</td>\n",
       "    </tr>\n",
       "    <tr>\n",
       "      <th>11</th>\n",
       "      <td>80.005</td>\n",
       "      <td>playing</td>\n",
       "    </tr>\n",
       "    <tr>\n",
       "      <th>12</th>\n",
       "      <td>110.005</td>\n",
       "      <td>playing</td>\n",
       "    </tr>\n",
       "    <tr>\n",
       "      <th>13</th>\n",
       "      <td>140.021</td>\n",
       "      <td>playing</td>\n",
       "    </tr>\n",
       "    <tr>\n",
       "      <th>14</th>\n",
       "      <td>180.012</td>\n",
       "      <td>playing</td>\n",
       "    </tr>\n",
       "    <tr>\n",
       "      <th>15</th>\n",
       "      <td>220.015</td>\n",
       "      <td>playing</td>\n",
       "    </tr>\n",
       "    <tr>\n",
       "      <th>16</th>\n",
       "      <td>252.205</td>\n",
       "      <td>ended</td>\n",
       "    </tr>\n",
       "  </tbody>\n",
       "</table>\n",
       "</div>"
      ],
      "text/plain": [
       "     vps.at       vps.value\n",
       "0     0.000  unstarted/cued\n",
       "1     0.008  unstarted/cued\n",
       "2     0.037       buffering\n",
       "3     0.858         playing\n",
       "4     1.965  unstarted/cued\n",
       "5     0.000  unstarted/cued\n",
       "6     0.009  unstarted/cued\n",
       "7     0.023       buffering\n",
       "8     0.293         playing\n",
       "9    10.005         playing\n",
       "10   50.005         playing\n",
       "11   80.005         playing\n",
       "12  110.005         playing\n",
       "13  140.021         playing\n",
       "14  180.012         playing\n",
       "15  220.015         playing\n",
       "16  252.205           ended"
      ]
     },
     "execution_count": 31,
     "metadata": {},
     "output_type": "execute_result"
    }
   ],
   "source": [
    "n = 'vps'\n",
    "k = [ { n: i } for i in sum([ i.get(n, []) for i in t_api_stats_qoe_pcap ], []) ]\n",
    "vps_df = pd.json_normalize(k)\n",
    "vps_df[:20]"
   ]
  },
  {
   "cell_type": "code",
   "execution_count": 32,
   "id": "b9ca4e96-ff35-41cc-b6aa-20eb7d3791cb",
   "metadata": {
    "colab": {
     "base_uri": "https://localhost:8080/",
     "height": 677
    },
    "executionInfo": {
     "elapsed": 20,
     "status": "ok",
     "timestamp": 1680268125320,
     "user": {
      "displayName": "arthur simas",
      "userId": "04073960446793716118"
     },
     "user_tz": 180
    },
    "id": "b9ca4e96-ff35-41cc-b6aa-20eb7d3791cb",
    "outputId": "1660b874-707b-4f13-c74d-338240b46d1a"
   },
   "outputs": [
    {
     "data": {
      "text/html": [
       "<div>\n",
       "<style scoped>\n",
       "    .dataframe tbody tr th:only-of-type {\n",
       "        vertical-align: middle;\n",
       "    }\n",
       "\n",
       "    .dataframe tbody tr th {\n",
       "        vertical-align: top;\n",
       "    }\n",
       "\n",
       "    .dataframe thead th {\n",
       "        text-align: right;\n",
       "    }\n",
       "</style>\n",
       "<table border=\"1\" class=\"dataframe\">\n",
       "  <thead>\n",
       "    <tr style=\"text-align: right;\">\n",
       "      <th></th>\n",
       "      <th>cmt.at</th>\n",
       "      <th>cmt.value</th>\n",
       "    </tr>\n",
       "  </thead>\n",
       "  <tbody>\n",
       "    <tr>\n",
       "      <th>0</th>\n",
       "      <td>0.037</td>\n",
       "      <td>0.000</td>\n",
       "    </tr>\n",
       "    <tr>\n",
       "      <th>1</th>\n",
       "      <td>0.858</td>\n",
       "      <td>0.063</td>\n",
       "    </tr>\n",
       "    <tr>\n",
       "      <th>2</th>\n",
       "      <td>1.610</td>\n",
       "      <td>0.816</td>\n",
       "    </tr>\n",
       "    <tr>\n",
       "      <th>3</th>\n",
       "      <td>1.965</td>\n",
       "      <td>1.168</td>\n",
       "    </tr>\n",
       "    <tr>\n",
       "      <th>4</th>\n",
       "      <td>0.009</td>\n",
       "      <td>0.000</td>\n",
       "    </tr>\n",
       "    <tr>\n",
       "      <th>5</th>\n",
       "      <td>0.023</td>\n",
       "      <td>0.000</td>\n",
       "    </tr>\n",
       "    <tr>\n",
       "      <th>6</th>\n",
       "      <td>0.293</td>\n",
       "      <td>0.015</td>\n",
       "    </tr>\n",
       "    <tr>\n",
       "      <th>7</th>\n",
       "      <td>1.043</td>\n",
       "      <td>0.746</td>\n",
       "    </tr>\n",
       "    <tr>\n",
       "      <th>8</th>\n",
       "      <td>10.005</td>\n",
       "      <td>9.580</td>\n",
       "    </tr>\n",
       "    <tr>\n",
       "      <th>9</th>\n",
       "      <td>50.005</td>\n",
       "      <td>49.580</td>\n",
       "    </tr>\n",
       "    <tr>\n",
       "      <th>10</th>\n",
       "      <td>80.005</td>\n",
       "      <td>79.580</td>\n",
       "    </tr>\n",
       "    <tr>\n",
       "      <th>11</th>\n",
       "      <td>110.005</td>\n",
       "      <td>109.580</td>\n",
       "    </tr>\n",
       "    <tr>\n",
       "      <th>12</th>\n",
       "      <td>140.021</td>\n",
       "      <td>139.596</td>\n",
       "    </tr>\n",
       "    <tr>\n",
       "      <th>13</th>\n",
       "      <td>180.012</td>\n",
       "      <td>179.591</td>\n",
       "    </tr>\n",
       "    <tr>\n",
       "      <th>14</th>\n",
       "      <td>220.015</td>\n",
       "      <td>219.590</td>\n",
       "    </tr>\n",
       "    <tr>\n",
       "      <th>15</th>\n",
       "      <td>252.205</td>\n",
       "      <td>251.741</td>\n",
       "    </tr>\n",
       "    <tr>\n",
       "      <th>16</th>\n",
       "      <td>252.205</td>\n",
       "      <td>251.741</td>\n",
       "    </tr>\n",
       "    <tr>\n",
       "      <th>17</th>\n",
       "      <td>261.640</td>\n",
       "      <td>251.741</td>\n",
       "    </tr>\n",
       "  </tbody>\n",
       "</table>\n",
       "</div>"
      ],
      "text/plain": [
       "     cmt.at  cmt.value\n",
       "0     0.037      0.000\n",
       "1     0.858      0.063\n",
       "2     1.610      0.816\n",
       "3     1.965      1.168\n",
       "4     0.009      0.000\n",
       "5     0.023      0.000\n",
       "6     0.293      0.015\n",
       "7     1.043      0.746\n",
       "8    10.005      9.580\n",
       "9    50.005     49.580\n",
       "10   80.005     79.580\n",
       "11  110.005    109.580\n",
       "12  140.021    139.596\n",
       "13  180.012    179.591\n",
       "14  220.015    219.590\n",
       "15  252.205    251.741\n",
       "16  252.205    251.741\n",
       "17  261.640    251.741"
      ]
     },
     "execution_count": 32,
     "metadata": {},
     "output_type": "execute_result"
    }
   ],
   "source": [
    "n = 'cmt'\n",
    "k = [ { n: i } for i in sum([ i.get(n, []) for i in t_api_stats_qoe_pcap[1:] ], []) ]\n",
    "cmt_df = pd.json_normalize(k)\n",
    "cmt_df[:20]"
   ]
  },
  {
   "cell_type": "code",
   "execution_count": 33,
   "id": "aea0b34d-3dcd-448c-aac2-7bdcc17f6d1d",
   "metadata": {
    "colab": {
     "base_uri": "https://localhost:8080/",
     "height": 677
    },
    "executionInfo": {
     "elapsed": 18,
     "status": "ok",
     "timestamp": 1680268125320,
     "user": {
      "displayName": "arthur simas",
      "userId": "04073960446793716118"
     },
     "user_tz": 180
    },
    "id": "aea0b34d-3dcd-448c-aac2-7bdcc17f6d1d",
    "outputId": "d52fe5a7-0b72-442a-f7ea-7968152d5938"
   },
   "outputs": [
    {
     "data": {
      "text/html": [
       "<div>\n",
       "<style scoped>\n",
       "    .dataframe tbody tr th:only-of-type {\n",
       "        vertical-align: middle;\n",
       "    }\n",
       "\n",
       "    .dataframe tbody tr th {\n",
       "        vertical-align: top;\n",
       "    }\n",
       "\n",
       "    .dataframe thead th {\n",
       "        text-align: right;\n",
       "    }\n",
       "</style>\n",
       "<table border=\"1\" class=\"dataframe\">\n",
       "  <thead>\n",
       "    <tr style=\"text-align: right;\">\n",
       "      <th></th>\n",
       "      <th>bh.at</th>\n",
       "      <th>bh.value</th>\n",
       "    </tr>\n",
       "  </thead>\n",
       "  <tbody>\n",
       "    <tr>\n",
       "      <th>0</th>\n",
       "      <td>0.858</td>\n",
       "      <td>7.401</td>\n",
       "    </tr>\n",
       "    <tr>\n",
       "      <th>1</th>\n",
       "      <td>1.965</td>\n",
       "      <td>19.150</td>\n",
       "    </tr>\n",
       "    <tr>\n",
       "      <th>2</th>\n",
       "      <td>0.009</td>\n",
       "      <td>0.000</td>\n",
       "    </tr>\n",
       "    <tr>\n",
       "      <th>3</th>\n",
       "      <td>0.293</td>\n",
       "      <td>4.500</td>\n",
       "    </tr>\n",
       "    <tr>\n",
       "      <th>4</th>\n",
       "      <td>10.005</td>\n",
       "      <td>36.050</td>\n",
       "    </tr>\n",
       "    <tr>\n",
       "      <th>5</th>\n",
       "      <td>50.005</td>\n",
       "      <td>82.341</td>\n",
       "    </tr>\n",
       "    <tr>\n",
       "      <th>6</th>\n",
       "      <td>80.005</td>\n",
       "      <td>120.593</td>\n",
       "    </tr>\n",
       "    <tr>\n",
       "      <th>7</th>\n",
       "      <td>110.005</td>\n",
       "      <td>120.578</td>\n",
       "    </tr>\n",
       "    <tr>\n",
       "      <th>8</th>\n",
       "      <td>140.021</td>\n",
       "      <td>251.733</td>\n",
       "    </tr>\n",
       "    <tr>\n",
       "      <th>9</th>\n",
       "      <td>180.012</td>\n",
       "      <td>251.733</td>\n",
       "    </tr>\n",
       "    <tr>\n",
       "      <th>10</th>\n",
       "      <td>220.015</td>\n",
       "      <td>251.733</td>\n",
       "    </tr>\n",
       "    <tr>\n",
       "      <th>11</th>\n",
       "      <td>252.205</td>\n",
       "      <td>251.733</td>\n",
       "    </tr>\n",
       "    <tr>\n",
       "      <th>12</th>\n",
       "      <td>261.640</td>\n",
       "      <td>0.000</td>\n",
       "    </tr>\n",
       "  </tbody>\n",
       "</table>\n",
       "</div>"
      ],
      "text/plain": [
       "      bh.at  bh.value\n",
       "0     0.858     7.401\n",
       "1     1.965    19.150\n",
       "2     0.009     0.000\n",
       "3     0.293     4.500\n",
       "4    10.005    36.050\n",
       "5    50.005    82.341\n",
       "6    80.005   120.593\n",
       "7   110.005   120.578\n",
       "8   140.021   251.733\n",
       "9   180.012   251.733\n",
       "10  220.015   251.733\n",
       "11  252.205   251.733\n",
       "12  261.640     0.000"
      ]
     },
     "execution_count": 33,
     "metadata": {},
     "output_type": "execute_result"
    }
   ],
   "source": [
    "n = 'bh'\n",
    "k = [ { n: i } for i in sum([ i.get(n, []) for i in t_api_stats_qoe_pcap[1:] ], []) ]\n",
    "bh_df = pd.json_normalize(k)\n",
    "bh_df[:20]"
   ]
  },
  {
   "cell_type": "code",
   "execution_count": 34,
   "id": "7253ab64-b5bb-4c46-b4bf-ca1beb3d701e",
   "metadata": {
    "colab": {
     "base_uri": "https://localhost:8080/",
     "height": 467
    },
    "executionInfo": {
     "elapsed": 461,
     "status": "ok",
     "timestamp": 1680268125764,
     "user": {
      "displayName": "arthur simas",
      "userId": "04073960446793716118"
     },
     "user_tz": 180
    },
    "id": "7253ab64-b5bb-4c46-b4bf-ca1beb3d701e",
    "outputId": "ecc5fa51-d616-4070-90f2-21d805c14edf"
   },
   "outputs": [
    {
     "data": {
      "text/plain": [
       "<AxesSubplot:xlabel='bh.at', ylabel='bh.value'>"
      ]
     },
     "execution_count": 34,
     "metadata": {},
     "output_type": "execute_result"
    },
    {
     "data": {
      "image/png": "[encoded data removed]",
      "text/plain": [
       "<Figure size 640x480 with 1 Axes>"
      ]
     },
     "metadata": {},
     "output_type": "display_data"
    }
   ],
   "source": [
    "sns.lineplot(data=bh_df, x='bh.at', y='bh.value')"
   ]
  },
  {
   "cell_type": "code",
   "execution_count": 35,
   "id": "6a18866f-7ced-485e-8421-1a30b3d83e6e",
   "metadata": {
    "colab": {
     "base_uri": "https://localhost:8080/",
     "height": 424
    },
    "executionInfo": {
     "elapsed": 11,
     "status": "ok",
     "timestamp": 1680268125765,
     "user": {
      "displayName": "arthur simas",
      "userId": "04073960446793716118"
     },
     "user_tz": 180
    },
    "id": "6a18866f-7ced-485e-8421-1a30b3d83e6e",
    "outputId": "f00464bc-b32b-46a0-ea6b-8d35cfff9044"
   },
   "outputs": [
    {
     "data": {
      "text/html": [
       "<div>\n",
       "<style scoped>\n",
       "    .dataframe tbody tr th:only-of-type {\n",
       "        vertical-align: middle;\n",
       "    }\n",
       "\n",
       "    .dataframe tbody tr th {\n",
       "        vertical-align: top;\n",
       "    }\n",
       "\n",
       "    .dataframe thead th {\n",
       "        text-align: right;\n",
       "    }\n",
       "</style>\n",
       "<table border=\"1\" class=\"dataframe\">\n",
       "  <thead>\n",
       "    <tr style=\"text-align: right;\">\n",
       "      <th></th>\n",
       "      <th>bwe.at</th>\n",
       "      <th>bwe.value</th>\n",
       "    </tr>\n",
       "  </thead>\n",
       "  <tbody>\n",
       "    <tr>\n",
       "      <th>0</th>\n",
       "      <td>1.965</td>\n",
       "      <td>909374</td>\n",
       "    </tr>\n",
       "    <tr>\n",
       "      <th>1</th>\n",
       "      <td>0.009</td>\n",
       "      <td>752419</td>\n",
       "    </tr>\n",
       "    <tr>\n",
       "      <th>2</th>\n",
       "      <td>10.005</td>\n",
       "      <td>1684310</td>\n",
       "    </tr>\n",
       "    <tr>\n",
       "      <th>3</th>\n",
       "      <td>50.005</td>\n",
       "      <td>1277198</td>\n",
       "    </tr>\n",
       "    <tr>\n",
       "      <th>4</th>\n",
       "      <td>80.005</td>\n",
       "      <td>720374</td>\n",
       "    </tr>\n",
       "    <tr>\n",
       "      <th>5</th>\n",
       "      <td>110.005</td>\n",
       "      <td>924948</td>\n",
       "    </tr>\n",
       "    <tr>\n",
       "      <th>6</th>\n",
       "      <td>140.021</td>\n",
       "      <td>1541416</td>\n",
       "    </tr>\n",
       "    <tr>\n",
       "      <th>7</th>\n",
       "      <td>180.012</td>\n",
       "      <td>1541416</td>\n",
       "    </tr>\n",
       "    <tr>\n",
       "      <th>8</th>\n",
       "      <td>220.015</td>\n",
       "      <td>1541416</td>\n",
       "    </tr>\n",
       "    <tr>\n",
       "      <th>9</th>\n",
       "      <td>252.205</td>\n",
       "      <td>1541416</td>\n",
       "    </tr>\n",
       "  </tbody>\n",
       "</table>\n",
       "</div>"
      ],
      "text/plain": [
       "    bwe.at  bwe.value\n",
       "0    1.965     909374\n",
       "1    0.009     752419\n",
       "2   10.005    1684310\n",
       "3   50.005    1277198\n",
       "4   80.005     720374\n",
       "5  110.005     924948\n",
       "6  140.021    1541416\n",
       "7  180.012    1541416\n",
       "8  220.015    1541416\n",
       "9  252.205    1541416"
      ]
     },
     "execution_count": 35,
     "metadata": {},
     "output_type": "execute_result"
    }
   ],
   "source": [
    "n = 'bwe'\n",
    "k = [ { n: i } for i in sum([ i.get(n, []) for i in t_api_stats_qoe_pcap[1:] ], []) ]\n",
    "bwe_df = pd.json_normalize(k)\n",
    "bwe_df"
   ]
  },
  {
   "cell_type": "code",
   "execution_count": 36,
   "id": "1e94b4e3-e3a2-457d-9beb-77734b88f748",
   "metadata": {
    "executionInfo": {
     "elapsed": 10,
     "status": "ok",
     "timestamp": 1680268125765,
     "user": {
      "displayName": "arthur simas",
      "userId": "04073960446793716118"
     },
     "user_tz": 180
    },
    "id": "1e94b4e3-e3a2-457d-9beb-77734b88f748"
   },
   "outputs": [],
   "source": [
    "bwm_df['bwm.estimate'] = bwm_df['bwm.downloaded_bytes'] / bwm_df['bwm.seconds_to_download']"
   ]
  },
  {
   "cell_type": "code",
   "execution_count": 37,
   "id": "05f51c0d-51fe-455f-b94a-2f5e5956f3aa",
   "metadata": {
    "colab": {
     "base_uri": "https://localhost:8080/",
     "height": 483
    },
    "executionInfo": {
     "elapsed": 1044,
     "status": "ok",
     "timestamp": 1680268126800,
     "user": {
      "displayName": "arthur simas",
      "userId": "04073960446793716118"
     },
     "user_tz": 180
    },
    "id": "05f51c0d-51fe-455f-b94a-2f5e5956f3aa",
    "outputId": "c6ecb1d2-f3c3-42f1-f0a7-033650ed52df"
   },
   "outputs": [
    {
     "data": {
      "text/plain": [
       "<AxesSubplot:xlabel='bwm.at', ylabel='bwm.estimate'>"
      ]
     },
     "execution_count": 37,
     "metadata": {},
     "output_type": "execute_result"
    },
    {
     "data": {
      "image/png": "[encoded data removed]",
      "text/plain": [
       "<Figure size 640x480 with 1 Axes>"
      ]
     },
     "metadata": {},
     "output_type": "display_data"
    }
   ],
   "source": [
    "sns.lineplot(data=bwm_df, x='bwm.at', y='bwm.estimate')\n",
    "sns.lineplot(data=bwe_df, x='bwe.at', y='bwe.value')"
   ]
  },
  {
   "cell_type": "code",
   "execution_count": null,
   "id": "45a95559-6bd8-4cda-880a-488e8ec3b196",
   "metadata": {
    "executionInfo": {
     "elapsed": 10,
     "status": "ok",
     "timestamp": 1680268126801,
     "user": {
      "displayName": "arthur simas",
      "userId": "04073960446793716118"
     },
     "user_tz": 180
    },
    "id": "45a95559-6bd8-4cda-880a-488e8ec3b196"
   },
   "outputs": [],
   "source": []
  }
 ],
 "metadata": {
  "colab": {
   "provenance": []
  },
  "kernelspec": {
   "display_name": "Python 3 (ipykernel)",
   "language": "python",
   "name": "python3"
  },
  "language_info": {
   "codemirror_mode": {
    "name": "ipython",
    "version": 3
   },
   "file_extension": ".py",
   "mimetype": "text/x-python",
   "name": "python",
   "nbconvert_exporter": "python",
   "pygments_lexer": "ipython3",
   "version": "3.9.12"
  }
 },
 "nbformat": 4,
 "nbformat_minor": 5
}
